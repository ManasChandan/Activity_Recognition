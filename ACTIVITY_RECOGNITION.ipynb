{
  "nbformat": 4,
  "nbformat_minor": 0,
  "metadata": {
    "colab": {
      "name": "ACTIVITY RECOGNITION.ipynb",
      "provenance": [],
      "authorship_tag": "ABX9TyOf9WyTOB/euSUkU7/C3YOd",
      "include_colab_link": true
    },
    "kernelspec": {
      "name": "python3",
      "display_name": "Python 3"
    },
    "accelerator": "GPU"
  },
  "cells": [
    {
      "cell_type": "markdown",
      "metadata": {
        "id": "view-in-github",
        "colab_type": "text"
      },
      "source": [
        "<a href=\"https://colab.research.google.com/github/ManasChandan/Activity_Recognition/blob/main/ACTIVITY_RECOGNITION.ipynb\" target=\"_parent\"><img src=\"https://colab.research.google.com/assets/colab-badge.svg\" alt=\"Open In Colab\"/></a>"
      ]
    },
    {
      "cell_type": "code",
      "metadata": {
        "id": "ZszIcXCG5PaS",
        "colab": {
          "base_uri": "https://localhost:8080/",
          "height": 35
        },
        "outputId": "5ad53868-020b-42db-d763-eb640855f821"
      },
      "source": [
        "from google.colab import drive\n",
        "drive.mount(\"/content/gdrive/\")"
      ],
      "execution_count": null,
      "outputs": [
        {
          "output_type": "stream",
          "text": [
            "Mounted at /content/gdrive/\n"
          ],
          "name": "stdout"
        }
      ]
    },
    {
      "cell_type": "code",
      "metadata": {
        "id": "bIciTfUp5-43"
      },
      "source": [
        "path = \"/content/gdrive/My Drive/DataSets/Data.zip\""
      ],
      "execution_count": null,
      "outputs": []
    },
    {
      "cell_type": "code",
      "metadata": {
        "id": "y_icplLJ62hr"
      },
      "source": [
        "import zipfile\n",
        "with zipfile.ZipFile(path, 'r') as zip_ref:\n",
        "    zip_ref.extractall(\"/content\")"
      ],
      "execution_count": null,
      "outputs": []
    },
    {
      "cell_type": "code",
      "metadata": {
        "id": "Id8NqyVo8vI6"
      },
      "source": [
        "import cv2\n",
        "import os\n",
        "import numpy as np\n",
        "from tensorflow.keras.utils import to_categorical\n",
        "from sklearn.model_selection import train_test_split"
      ],
      "execution_count": null,
      "outputs": []
    },
    {
      "cell_type": "code",
      "metadata": {
        "id": "khs9eRDq8yQE"
      },
      "source": [
        "labels_dict = {'Abuse':0,'Arrest':1,'Arson':2,'Assault':3,'Burglary':4,'Explosion':5,'Fighting':6,\n",
        "               'RoadAccidents':7,'Robbery':8,'Shooting':9,'Shoplifting':10,'Stealing':11,'Vandalism':12}"
      ],
      "execution_count": null,
      "outputs": []
    },
    {
      "cell_type": "code",
      "metadata": {
        "id": "EdiLuOTx76Nz"
      },
      "source": [
        "def prepare_data(path):\n",
        "    labels = []\n",
        "    final_Matrice = []\n",
        "    for activities in os.listdir(path):\n",
        "        videos = path + \"/\" + activities\n",
        "        # activities has the name\n",
        "        print(activities)\n",
        "        for video in os.listdir(videos):\n",
        "            frames = videos + \"/\" + video + \"/Frames\"\n",
        "            image_Videos = []\n",
        "            for frame in os.listdir(frames):\n",
        "                filepath = frames + \"/\" + frame\n",
        "                image = cv2.imread(filepath)\n",
        "                image = cv2.resize(image , (80,80))\n",
        "                image_Videos.append(image)\n",
        "            labels.append(labels_dict[activities])\n",
        "            final_Matrice.append(image_Videos)\n",
        "    labels = to_categorical(labels)\n",
        "    final_Matrice = np.array(final_Matrice)\n",
        "    final_Matrice = final_Matrice / 255.0\n",
        "\n",
        "    X_train, X_test, y_train, y_test = train_test_split(final_Matrice, labels, test_size=0.15)\n",
        "\n",
        "    print(X_train.shape , X_test.shape , y_train.shape , y_test.shape)\n",
        "\n",
        "    return X_train, X_test, y_train, y_test"
      ],
      "execution_count": null,
      "outputs": []
    },
    {
      "cell_type": "code",
      "metadata": {
        "id": "I3XhmOqB97l0",
        "colab": {
          "base_uri": "https://localhost:8080/",
          "height": 260
        },
        "outputId": "a08286d5-74fe-4c23-952f-396c32946b10"
      },
      "source": [
        "X_train, X_test, y_train, y_test = prepare_data(\"/content/Data\")"
      ],
      "execution_count": null,
      "outputs": [
        {
          "output_type": "stream",
          "text": [
            "Burglary\n",
            "Fighting\n",
            "Stealing\n",
            "Shoplifting\n",
            "Explosion\n",
            "Assault\n",
            "RoadAccidents\n",
            "Arrest\n",
            "Arson\n",
            "Abuse\n",
            "Robbery\n",
            "Vandalism\n",
            "Shooting\n",
            "(236, 32, 80, 80, 3) (42, 32, 80, 80, 3) (236, 13) (42, 13)\n"
          ],
          "name": "stdout"
        }
      ]
    },
    {
      "cell_type": "code",
      "metadata": {
        "id": "LpX9Eyqo-ERr"
      },
      "source": [
        "from tensorflow.keras.layers import Dense, Flatten, Dropout\n",
        "from tensorflow.keras.layers import LSTM\n",
        "from tensorflow.keras.models import Sequential, load_model\n",
        "from tensorflow.keras.optimizers import Adam, RMSprop\n",
        "from tensorflow.keras.layers import TimeDistributed\n",
        "from tensorflow.keras.layers import Conv2D , MaxPooling2D\n",
        "from tensorflow.keras.layers import BatchNormalization , Activation\n",
        "from tensorflow.keras.regularizers import L2"
      ],
      "execution_count": null,
      "outputs": []
    },
    {
      "cell_type": "code",
      "metadata": {
        "id": "zGoADAThLmmK",
        "colab": {
          "base_uri": "https://localhost:8080/",
          "height": 35
        },
        "outputId": "2d5cac9c-4e53-4992-8462-143b893a6168"
      },
      "source": [
        "X_train[0].shape"
      ],
      "execution_count": null,
      "outputs": [
        {
          "output_type": "execute_result",
          "data": {
            "text/plain": [
              "(32, 80, 80, 3)"
            ]
          },
          "metadata": {
            "tags": []
          },
          "execution_count": 14
        }
      ]
    },
    {
      "cell_type": "code",
      "metadata": {
        "id": "GIT4JWKGQh4r"
      },
      "source": [
        "def add_default_block(model, kernel_filters, initals , reg_lambda):\n",
        "  model.add(TimeDistributed(Conv2D(kernel_filters, (3, 3), padding='same',\n",
        "                                             kernel_initializer=initals, kernel_regularizer=L2(l=reg_lambda))))\n",
        "  model.add(TimeDistributed(BatchNormalization()))\n",
        "  model.add(TimeDistributed(Activation('relu')))\n",
        "  model.add(TimeDistributed(Conv2D(kernel_filters, (3, 3), padding='same',\n",
        "                                             kernel_initializer=initals, kernel_regularizer=L2(l=reg_lambda))))\n",
        "  model.add(TimeDistributed(BatchNormalization()))\n",
        "  model.add(TimeDistributed(Activation('relu')))\n",
        "  model.add(TimeDistributed(MaxPooling2D((2, 2), strides=(2, 2))))\n",
        "  return model"
      ],
      "execution_count": null,
      "outputs": []
    },
    {
      "cell_type": "code",
      "metadata": {
        "id": "5xSnfT0URCZk"
      },
      "source": [
        "def create_model():\n",
        "  initialiser = 'glorot_uniform'\n",
        "  reg_lambda  = 0.001\n",
        "  model = Sequential()\n",
        "  model.add(TimeDistributed(Conv2D(32, (7, 7), strides=(2, 2), padding='same',\n",
        "                                          kernel_initializer=initialiser, kernel_regularizer=L2(l=reg_lambda)),\n",
        "                                    input_shape=(32,80,80,3)))\n",
        "  model.add(TimeDistributed(BatchNormalization()))\n",
        "  model.add(TimeDistributed(Activation('relu')))\n",
        "  model.add(TimeDistributed(Conv2D(32, (3,3), kernel_initializer=initialiser, kernel_regularizer=L2(l=reg_lambda))))\n",
        "  model.add(TimeDistributed(BatchNormalization()))\n",
        "  model.add(TimeDistributed(Activation('relu')))\n",
        "  model.add(TimeDistributed(MaxPooling2D((2, 2), strides=(2, 2))))\n",
        "  model = add_default_block(model, 64,  initals=initialiser, reg_lambda=reg_lambda)\n",
        "  model = add_default_block(model, 128, initals=initialiser, reg_lambda=reg_lambda)\n",
        "  model = add_default_block(model, 256, initals=initialiser, reg_lambda=reg_lambda)\n",
        "  model = add_default_block(model, 512, initals=initialiser, reg_lambda=reg_lambda)\n",
        "  model.add(TimeDistributed(Flatten()))\n",
        "  model.add(LSTM(256, return_sequences=False, dropout=0.5))\n",
        "  model.add(Dense(13, activation='softmax'))\n",
        "  return model"
      ],
      "execution_count": null,
      "outputs": []
    },
    {
      "cell_type": "code",
      "metadata": {
        "id": "IUUZAU-lR4jf"
      },
      "source": [
        "model = create_model()"
      ],
      "execution_count": null,
      "outputs": []
    },
    {
      "cell_type": "code",
      "metadata": {
        "id": "J6P_v6U7Io_Y"
      },
      "source": [
        "model.compile(optimizer='adam' , loss = 'categorical_crossentropy' , metrics=['accuracy'])"
      ],
      "execution_count": null,
      "outputs": []
    },
    {
      "cell_type": "code",
      "metadata": {
        "id": "znvVdJ6hR3fv"
      },
      "source": [
        ""
      ],
      "execution_count": null,
      "outputs": []
    },
    {
      "cell_type": "code",
      "metadata": {
        "id": "MKR_vgX9NcP7",
        "colab": {
          "base_uri": "https://localhost:8080/",
          "height": 52
        },
        "outputId": "c691dca9-5539-4bed-d12b-55fe89cb087d"
      },
      "source": [
        "model.fit(X_train , y_train, epochs = 1)"
      ],
      "execution_count": null,
      "outputs": [
        {
          "output_type": "stream",
          "text": [
            "8/8 [==============================] - 3s 395ms/step - loss: 4.3268 - accuracy: 0.1017\n"
          ],
          "name": "stdout"
        },
        {
          "output_type": "execute_result",
          "data": {
            "text/plain": [
              "<tensorflow.python.keras.callbacks.History at 0x7ff172758f98>"
            ]
          },
          "metadata": {
            "tags": []
          },
          "execution_count": 19
        }
      ]
    },
    {
      "cell_type": "code",
      "metadata": {
        "id": "lHNERAgyM9wT",
        "colab": {
          "base_uri": "https://localhost:8080/",
          "height": 1000
        },
        "outputId": "ccb15871-f0de-47e5-a6cd-0f5856f0202e"
      },
      "source": [
        "model.summary()"
      ],
      "execution_count": null,
      "outputs": [
        {
          "output_type": "stream",
          "text": [
            "Model: \"sequential\"\n",
            "_________________________________________________________________\n",
            "Layer (type)                 Output Shape              Param #   \n",
            "=================================================================\n",
            "time_distributed (TimeDistri (None, 32, 40, 40, 32)    4736      \n",
            "_________________________________________________________________\n",
            "time_distributed_1 (TimeDist (None, 32, 40, 40, 32)    128       \n",
            "_________________________________________________________________\n",
            "time_distributed_2 (TimeDist (None, 32, 40, 40, 32)    0         \n",
            "_________________________________________________________________\n",
            "time_distributed_3 (TimeDist (None, 32, 38, 38, 32)    9248      \n",
            "_________________________________________________________________\n",
            "time_distributed_4 (TimeDist (None, 32, 38, 38, 32)    128       \n",
            "_________________________________________________________________\n",
            "time_distributed_5 (TimeDist (None, 32, 38, 38, 32)    0         \n",
            "_________________________________________________________________\n",
            "time_distributed_6 (TimeDist (None, 32, 19, 19, 32)    0         \n",
            "_________________________________________________________________\n",
            "time_distributed_7 (TimeDist (None, 32, 19, 19, 64)    18496     \n",
            "_________________________________________________________________\n",
            "time_distributed_8 (TimeDist (None, 32, 19, 19, 64)    256       \n",
            "_________________________________________________________________\n",
            "time_distributed_9 (TimeDist (None, 32, 19, 19, 64)    0         \n",
            "_________________________________________________________________\n",
            "time_distributed_10 (TimeDis (None, 32, 19, 19, 64)    36928     \n",
            "_________________________________________________________________\n",
            "time_distributed_11 (TimeDis (None, 32, 19, 19, 64)    256       \n",
            "_________________________________________________________________\n",
            "time_distributed_12 (TimeDis (None, 32, 19, 19, 64)    0         \n",
            "_________________________________________________________________\n",
            "time_distributed_13 (TimeDis (None, 32, 9, 9, 64)      0         \n",
            "_________________________________________________________________\n",
            "time_distributed_14 (TimeDis (None, 32, 9, 9, 128)     73856     \n",
            "_________________________________________________________________\n",
            "time_distributed_15 (TimeDis (None, 32, 9, 9, 128)     512       \n",
            "_________________________________________________________________\n",
            "time_distributed_16 (TimeDis (None, 32, 9, 9, 128)     0         \n",
            "_________________________________________________________________\n",
            "time_distributed_17 (TimeDis (None, 32, 9, 9, 128)     147584    \n",
            "_________________________________________________________________\n",
            "time_distributed_18 (TimeDis (None, 32, 9, 9, 128)     512       \n",
            "_________________________________________________________________\n",
            "time_distributed_19 (TimeDis (None, 32, 9, 9, 128)     0         \n",
            "_________________________________________________________________\n",
            "time_distributed_20 (TimeDis (None, 32, 4, 4, 128)     0         \n",
            "_________________________________________________________________\n",
            "time_distributed_21 (TimeDis (None, 32, 4, 4, 256)     295168    \n",
            "_________________________________________________________________\n",
            "time_distributed_22 (TimeDis (None, 32, 4, 4, 256)     1024      \n",
            "_________________________________________________________________\n",
            "time_distributed_23 (TimeDis (None, 32, 4, 4, 256)     0         \n",
            "_________________________________________________________________\n",
            "time_distributed_24 (TimeDis (None, 32, 4, 4, 256)     590080    \n",
            "_________________________________________________________________\n",
            "time_distributed_25 (TimeDis (None, 32, 4, 4, 256)     1024      \n",
            "_________________________________________________________________\n",
            "time_distributed_26 (TimeDis (None, 32, 4, 4, 256)     0         \n",
            "_________________________________________________________________\n",
            "time_distributed_27 (TimeDis (None, 32, 2, 2, 256)     0         \n",
            "_________________________________________________________________\n",
            "time_distributed_28 (TimeDis (None, 32, 2, 2, 512)     1180160   \n",
            "_________________________________________________________________\n",
            "time_distributed_29 (TimeDis (None, 32, 2, 2, 512)     2048      \n",
            "_________________________________________________________________\n",
            "time_distributed_30 (TimeDis (None, 32, 2, 2, 512)     0         \n",
            "_________________________________________________________________\n",
            "time_distributed_31 (TimeDis (None, 32, 2, 2, 512)     2359808   \n",
            "_________________________________________________________________\n",
            "time_distributed_32 (TimeDis (None, 32, 2, 2, 512)     2048      \n",
            "_________________________________________________________________\n",
            "time_distributed_33 (TimeDis (None, 32, 2, 2, 512)     0         \n",
            "_________________________________________________________________\n",
            "time_distributed_34 (TimeDis (None, 32, 1, 1, 512)     0         \n",
            "_________________________________________________________________\n",
            "time_distributed_35 (TimeDis (None, 32, 512)           0         \n",
            "_________________________________________________________________\n",
            "lstm (LSTM)                  (None, 256)               787456    \n",
            "_________________________________________________________________\n",
            "dense (Dense)                (None, 13)                3341      \n",
            "=================================================================\n",
            "Total params: 5,514,797\n",
            "Trainable params: 5,510,829\n",
            "Non-trainable params: 3,968\n",
            "_________________________________________________________________\n"
          ],
          "name": "stdout"
        }
      ]
    },
    {
      "cell_type": "code",
      "metadata": {
        "id": "U1h-z1P0O2jI",
        "colab": {
          "base_uri": "https://localhost:8080/",
          "height": 1000
        },
        "outputId": "4170556d-1608-4e76-a55c-9d2e37024757"
      },
      "source": [
        "data = model.fit(X_train , y_train , batch_size=64 , epochs = 100 , validation_data=(X_test , y_test))"
      ],
      "execution_count": null,
      "outputs": [
        {
          "output_type": "stream",
          "text": [
            "Epoch 1/100\n",
            "4/4 [==============================] - 7s 2s/step - loss: 4.0906 - accuracy: 0.1568 - val_loss: 4.2303 - val_accuracy: 0.1190\n",
            "Epoch 2/100\n",
            "4/4 [==============================] - 2s 495ms/step - loss: 4.0235 - accuracy: 0.1907 - val_loss: 4.2299 - val_accuracy: 0.1190\n",
            "Epoch 3/100\n",
            "4/4 [==============================] - 2s 492ms/step - loss: 3.9711 - accuracy: 0.2203 - val_loss: 4.2217 - val_accuracy: 0.1190\n",
            "Epoch 4/100\n",
            "4/4 [==============================] - 2s 505ms/step - loss: 3.8856 - accuracy: 0.2500 - val_loss: 4.2905 - val_accuracy: 0.1190\n",
            "Epoch 5/100\n",
            "4/4 [==============================] - 2s 495ms/step - loss: 3.8062 - accuracy: 0.2458 - val_loss: 4.4213 - val_accuracy: 0.1190\n",
            "Epoch 6/100\n",
            "4/4 [==============================] - 2s 495ms/step - loss: 3.7204 - accuracy: 0.2754 - val_loss: 4.5340 - val_accuracy: 0.1190\n",
            "Epoch 7/100\n",
            "4/4 [==============================] - 2s 500ms/step - loss: 3.6001 - accuracy: 0.3136 - val_loss: 4.6402 - val_accuracy: 0.1190\n",
            "Epoch 8/100\n",
            "4/4 [==============================] - 2s 501ms/step - loss: 3.5744 - accuracy: 0.3051 - val_loss: 4.6782 - val_accuracy: 0.1190\n",
            "Epoch 9/100\n",
            "4/4 [==============================] - 2s 506ms/step - loss: 3.4492 - accuracy: 0.3602 - val_loss: 4.7493 - val_accuracy: 0.1190\n",
            "Epoch 10/100\n",
            "4/4 [==============================] - 2s 499ms/step - loss: 3.4416 - accuracy: 0.3093 - val_loss: 4.8642 - val_accuracy: 0.1190\n",
            "Epoch 11/100\n",
            "4/4 [==============================] - 2s 504ms/step - loss: 3.2998 - accuracy: 0.3347 - val_loss: 5.0282 - val_accuracy: 0.1190\n",
            "Epoch 12/100\n",
            "4/4 [==============================] - 2s 502ms/step - loss: 3.2133 - accuracy: 0.3559 - val_loss: 5.2264 - val_accuracy: 0.1190\n",
            "Epoch 13/100\n",
            "4/4 [==============================] - 2s 507ms/step - loss: 3.1154 - accuracy: 0.3686 - val_loss: 5.3343 - val_accuracy: 0.1190\n",
            "Epoch 14/100\n",
            "4/4 [==============================] - 2s 502ms/step - loss: 3.0625 - accuracy: 0.4280 - val_loss: 5.6197 - val_accuracy: 0.1190\n",
            "Epoch 15/100\n",
            "4/4 [==============================] - 2s 510ms/step - loss: 2.9663 - accuracy: 0.4237 - val_loss: 5.6023 - val_accuracy: 0.1190\n",
            "Epoch 16/100\n",
            "4/4 [==============================] - 2s 506ms/step - loss: 2.8709 - accuracy: 0.4788 - val_loss: 5.6477 - val_accuracy: 0.1190\n",
            "Epoch 17/100\n",
            "4/4 [==============================] - 2s 502ms/step - loss: 2.7732 - accuracy: 0.4915 - val_loss: 5.6539 - val_accuracy: 0.1190\n",
            "Epoch 18/100\n",
            "4/4 [==============================] - 2s 502ms/step - loss: 2.6916 - accuracy: 0.5720 - val_loss: 5.9471 - val_accuracy: 0.1190\n",
            "Epoch 19/100\n",
            "4/4 [==============================] - 2s 507ms/step - loss: 2.4924 - accuracy: 0.5636 - val_loss: 6.3089 - val_accuracy: 0.1190\n",
            "Epoch 20/100\n",
            "4/4 [==============================] - 2s 508ms/step - loss: 2.2922 - accuracy: 0.6229 - val_loss: 6.2250 - val_accuracy: 0.1190\n",
            "Epoch 21/100\n",
            "4/4 [==============================] - 2s 501ms/step - loss: 2.1382 - accuracy: 0.7246 - val_loss: 6.4399 - val_accuracy: 0.1190\n",
            "Epoch 22/100\n",
            "4/4 [==============================] - 2s 501ms/step - loss: 2.0559 - accuracy: 0.6822 - val_loss: 6.8211 - val_accuracy: 0.1190\n",
            "Epoch 23/100\n",
            "4/4 [==============================] - 2s 518ms/step - loss: 1.9280 - accuracy: 0.7839 - val_loss: 7.0521 - val_accuracy: 0.1190\n",
            "Epoch 24/100\n",
            "4/4 [==============================] - 2s 510ms/step - loss: 1.9235 - accuracy: 0.7966 - val_loss: 7.0326 - val_accuracy: 0.1190\n",
            "Epoch 25/100\n",
            "4/4 [==============================] - 2s 514ms/step - loss: 1.6720 - accuracy: 0.8686 - val_loss: 7.5498 - val_accuracy: 0.1190\n",
            "Epoch 26/100\n",
            "4/4 [==============================] - 2s 511ms/step - loss: 1.6856 - accuracy: 0.8390 - val_loss: 7.2131 - val_accuracy: 0.1190\n",
            "Epoch 27/100\n",
            "4/4 [==============================] - 2s 508ms/step - loss: 1.6266 - accuracy: 0.8644 - val_loss: 7.7026 - val_accuracy: 0.1190\n",
            "Epoch 28/100\n",
            "4/4 [==============================] - 2s 508ms/step - loss: 1.5097 - accuracy: 0.9068 - val_loss: 7.8565 - val_accuracy: 0.1190\n",
            "Epoch 29/100\n",
            "4/4 [==============================] - 2s 513ms/step - loss: 1.6046 - accuracy: 0.8559 - val_loss: 7.6643 - val_accuracy: 0.1190\n",
            "Epoch 30/100\n",
            "4/4 [==============================] - 2s 512ms/step - loss: 1.5503 - accuracy: 0.8771 - val_loss: 7.5472 - val_accuracy: 0.1190\n",
            "Epoch 31/100\n",
            "4/4 [==============================] - 2s 507ms/step - loss: 1.4343 - accuracy: 0.8983 - val_loss: 7.5196 - val_accuracy: 0.0952\n",
            "Epoch 32/100\n",
            "4/4 [==============================] - 2s 512ms/step - loss: 1.3767 - accuracy: 0.9110 - val_loss: 7.5282 - val_accuracy: 0.0952\n",
            "Epoch 33/100\n",
            "4/4 [==============================] - 2s 518ms/step - loss: 1.3104 - accuracy: 0.9364 - val_loss: 7.7927 - val_accuracy: 0.0952\n",
            "Epoch 34/100\n",
            "4/4 [==============================] - 2s 511ms/step - loss: 1.2687 - accuracy: 0.9407 - val_loss: 8.0366 - val_accuracy: 0.0952\n",
            "Epoch 35/100\n",
            "4/4 [==============================] - 2s 513ms/step - loss: 1.2153 - accuracy: 0.9576 - val_loss: 7.9975 - val_accuracy: 0.0952\n",
            "Epoch 36/100\n",
            "4/4 [==============================] - 2s 510ms/step - loss: 1.2012 - accuracy: 0.9661 - val_loss: 7.7659 - val_accuracy: 0.0952\n",
            "Epoch 37/100\n",
            "4/4 [==============================] - 2s 525ms/step - loss: 1.1782 - accuracy: 0.9576 - val_loss: 8.0206 - val_accuracy: 0.0952\n",
            "Epoch 38/100\n",
            "4/4 [==============================] - 2s 516ms/step - loss: 1.1267 - accuracy: 0.9619 - val_loss: 7.7053 - val_accuracy: 0.0952\n",
            "Epoch 39/100\n",
            "4/4 [==============================] - 2s 522ms/step - loss: 1.1119 - accuracy: 0.9746 - val_loss: 7.6925 - val_accuracy: 0.0476\n",
            "Epoch 40/100\n",
            "4/4 [==============================] - 2s 515ms/step - loss: 1.0953 - accuracy: 0.9746 - val_loss: 7.7387 - val_accuracy: 0.0952\n",
            "Epoch 41/100\n",
            "4/4 [==============================] - 2s 519ms/step - loss: 1.0745 - accuracy: 0.9661 - val_loss: 7.7472 - val_accuracy: 0.0714\n",
            "Epoch 42/100\n",
            "4/4 [==============================] - 2s 526ms/step - loss: 1.0510 - accuracy: 0.9746 - val_loss: 7.8250 - val_accuracy: 0.0952\n",
            "Epoch 43/100\n",
            "4/4 [==============================] - 2s 515ms/step - loss: 1.0424 - accuracy: 0.9619 - val_loss: 7.9487 - val_accuracy: 0.0952\n",
            "Epoch 44/100\n",
            "4/4 [==============================] - 2s 516ms/step - loss: 1.0322 - accuracy: 0.9703 - val_loss: 7.9848 - val_accuracy: 0.0952\n",
            "Epoch 45/100\n",
            "4/4 [==============================] - 2s 519ms/step - loss: 1.0182 - accuracy: 0.9746 - val_loss: 7.8723 - val_accuracy: 0.0952\n",
            "Epoch 46/100\n",
            "4/4 [==============================] - 2s 521ms/step - loss: 1.0160 - accuracy: 0.9746 - val_loss: 8.3397 - val_accuracy: 0.0952\n",
            "Epoch 47/100\n",
            "4/4 [==============================] - 2s 517ms/step - loss: 0.9854 - accuracy: 0.9703 - val_loss: 9.0558 - val_accuracy: 0.0952\n",
            "Epoch 48/100\n",
            "4/4 [==============================] - 2s 521ms/step - loss: 0.9657 - accuracy: 0.9746 - val_loss: 8.0995 - val_accuracy: 0.1190\n",
            "Epoch 49/100\n",
            "4/4 [==============================] - 2s 510ms/step - loss: 0.9771 - accuracy: 0.9619 - val_loss: 8.1396 - val_accuracy: 0.0714\n",
            "Epoch 50/100\n",
            "4/4 [==============================] - 2s 522ms/step - loss: 0.9552 - accuracy: 0.9661 - val_loss: 8.4712 - val_accuracy: 0.0714\n",
            "Epoch 51/100\n",
            "4/4 [==============================] - 2s 519ms/step - loss: 0.9958 - accuracy: 0.9576 - val_loss: 8.2196 - val_accuracy: 0.0714\n",
            "Epoch 52/100\n",
            "4/4 [==============================] - 2s 529ms/step - loss: 0.9482 - accuracy: 0.9619 - val_loss: 8.3543 - val_accuracy: 0.0714\n",
            "Epoch 53/100\n",
            "4/4 [==============================] - 2s 527ms/step - loss: 0.9813 - accuracy: 0.9534 - val_loss: 8.2261 - val_accuracy: 0.0714\n",
            "Epoch 54/100\n",
            "4/4 [==============================] - 2s 534ms/step - loss: 0.9295 - accuracy: 0.9746 - val_loss: 8.1239 - val_accuracy: 0.0714\n",
            "Epoch 55/100\n",
            "4/4 [==============================] - 2s 513ms/step - loss: 0.9241 - accuracy: 0.9576 - val_loss: 8.1404 - val_accuracy: 0.0476\n",
            "Epoch 56/100\n",
            "4/4 [==============================] - 2s 517ms/step - loss: 0.9464 - accuracy: 0.9576 - val_loss: 8.1825 - val_accuracy: 0.0476\n",
            "Epoch 57/100\n",
            "4/4 [==============================] - 2s 524ms/step - loss: 1.0255 - accuracy: 0.9322 - val_loss: 7.9379 - val_accuracy: 0.0952\n",
            "Epoch 58/100\n",
            "4/4 [==============================] - 2s 532ms/step - loss: 0.9913 - accuracy: 0.9195 - val_loss: 7.8971 - val_accuracy: 0.0952\n",
            "Epoch 59/100\n",
            "4/4 [==============================] - 2s 526ms/step - loss: 1.0684 - accuracy: 0.8983 - val_loss: 7.3415 - val_accuracy: 0.1429\n",
            "Epoch 60/100\n",
            "4/4 [==============================] - 2s 531ms/step - loss: 1.1269 - accuracy: 0.8771 - val_loss: 7.2183 - val_accuracy: 0.0714\n",
            "Epoch 61/100\n",
            "4/4 [==============================] - 2s 520ms/step - loss: 1.0405 - accuracy: 0.9153 - val_loss: 7.2785 - val_accuracy: 0.1190\n",
            "Epoch 62/100\n",
            "4/4 [==============================] - 2s 520ms/step - loss: 0.9789 - accuracy: 0.9449 - val_loss: 6.7994 - val_accuracy: 0.0476\n",
            "Epoch 63/100\n",
            "4/4 [==============================] - 2s 531ms/step - loss: 0.9787 - accuracy: 0.9407 - val_loss: 5.9857 - val_accuracy: 0.1190\n",
            "Epoch 64/100\n",
            "4/4 [==============================] - 2s 523ms/step - loss: 0.9539 - accuracy: 0.9407 - val_loss: 6.8230 - val_accuracy: 0.0714\n",
            "Epoch 65/100\n",
            "4/4 [==============================] - 2s 519ms/step - loss: 0.9094 - accuracy: 0.9661 - val_loss: 7.3418 - val_accuracy: 0.0714\n",
            "Epoch 66/100\n",
            "4/4 [==============================] - 2s 519ms/step - loss: 0.9263 - accuracy: 0.9576 - val_loss: 6.9584 - val_accuracy: 0.0714\n",
            "Epoch 67/100\n",
            "4/4 [==============================] - 2s 528ms/step - loss: 0.8846 - accuracy: 0.9576 - val_loss: 6.7715 - val_accuracy: 0.0238\n",
            "Epoch 68/100\n",
            "4/4 [==============================] - 2s 532ms/step - loss: 0.8615 - accuracy: 0.9661 - val_loss: 7.2904 - val_accuracy: 0.0952\n",
            "Epoch 69/100\n",
            "4/4 [==============================] - 2s 525ms/step - loss: 0.8523 - accuracy: 0.9703 - val_loss: 7.9912 - val_accuracy: 0.0714\n",
            "Epoch 70/100\n",
            "4/4 [==============================] - 2s 526ms/step - loss: 0.8497 - accuracy: 0.9703 - val_loss: 7.9209 - val_accuracy: 0.0952\n",
            "Epoch 71/100\n",
            "4/4 [==============================] - 2s 524ms/step - loss: 0.8151 - accuracy: 0.9703 - val_loss: 7.8643 - val_accuracy: 0.0952\n",
            "Epoch 72/100\n",
            "4/4 [==============================] - 2s 527ms/step - loss: 0.8052 - accuracy: 0.9788 - val_loss: 7.9916 - val_accuracy: 0.1190\n",
            "Epoch 73/100\n",
            "4/4 [==============================] - 2s 530ms/step - loss: 0.7867 - accuracy: 0.9873 - val_loss: 8.0001 - val_accuracy: 0.1190\n",
            "Epoch 74/100\n",
            "4/4 [==============================] - 2s 527ms/step - loss: 0.7820 - accuracy: 0.9788 - val_loss: 7.9777 - val_accuracy: 0.1190\n",
            "Epoch 75/100\n",
            "4/4 [==============================] - 2s 529ms/step - loss: 0.7654 - accuracy: 0.9788 - val_loss: 7.9559 - val_accuracy: 0.1190\n",
            "Epoch 76/100\n",
            "4/4 [==============================] - 2s 533ms/step - loss: 0.7502 - accuracy: 0.9788 - val_loss: 8.0115 - val_accuracy: 0.1190\n",
            "Epoch 77/100\n",
            "4/4 [==============================] - 2s 535ms/step - loss: 0.7440 - accuracy: 0.9703 - val_loss: 8.0296 - val_accuracy: 0.1190\n",
            "Epoch 78/100\n",
            "4/4 [==============================] - 2s 529ms/step - loss: 0.7243 - accuracy: 0.9788 - val_loss: 8.0074 - val_accuracy: 0.1190\n",
            "Epoch 79/100\n",
            "4/4 [==============================] - 2s 521ms/step - loss: 0.7173 - accuracy: 0.9831 - val_loss: 8.0401 - val_accuracy: 0.1190\n",
            "Epoch 80/100\n",
            "4/4 [==============================] - 2s 531ms/step - loss: 0.7062 - accuracy: 0.9788 - val_loss: 8.0647 - val_accuracy: 0.1190\n",
            "Epoch 81/100\n",
            "4/4 [==============================] - 2s 527ms/step - loss: 0.7012 - accuracy: 0.9746 - val_loss: 8.0213 - val_accuracy: 0.0952\n",
            "Epoch 82/100\n",
            "4/4 [==============================] - 2s 524ms/step - loss: 0.6847 - accuracy: 0.9831 - val_loss: 8.1128 - val_accuracy: 0.1190\n",
            "Epoch 83/100\n",
            "4/4 [==============================] - 2s 522ms/step - loss: 0.6744 - accuracy: 0.9788 - val_loss: 8.1238 - val_accuracy: 0.1190\n",
            "Epoch 84/100\n",
            "4/4 [==============================] - 2s 525ms/step - loss: 0.6757 - accuracy: 0.9703 - val_loss: 8.1211 - val_accuracy: 0.1190\n",
            "Epoch 85/100\n",
            "4/4 [==============================] - 2s 527ms/step - loss: 0.6630 - accuracy: 0.9661 - val_loss: 8.0321 - val_accuracy: 0.1190\n",
            "Epoch 86/100\n",
            "4/4 [==============================] - 2s 535ms/step - loss: 0.6465 - accuracy: 0.9788 - val_loss: 7.9924 - val_accuracy: 0.1190\n",
            "Epoch 87/100\n",
            "4/4 [==============================] - 2s 533ms/step - loss: 0.6380 - accuracy: 0.9746 - val_loss: 7.9855 - val_accuracy: 0.1190\n",
            "Epoch 88/100\n",
            "4/4 [==============================] - 2s 521ms/step - loss: 0.6312 - accuracy: 0.9788 - val_loss: 8.0104 - val_accuracy: 0.1190\n",
            "Epoch 89/100\n",
            "4/4 [==============================] - 2s 530ms/step - loss: 0.6204 - accuracy: 0.9788 - val_loss: 8.0134 - val_accuracy: 0.1190\n",
            "Epoch 90/100\n",
            "4/4 [==============================] - 2s 521ms/step - loss: 0.6145 - accuracy: 0.9788 - val_loss: 7.9789 - val_accuracy: 0.1190\n",
            "Epoch 91/100\n",
            "4/4 [==============================] - 2s 524ms/step - loss: 0.6086 - accuracy: 0.9703 - val_loss: 7.9075 - val_accuracy: 0.1190\n",
            "Epoch 92/100\n",
            "4/4 [==============================] - 2s 535ms/step - loss: 0.5979 - accuracy: 0.9703 - val_loss: 7.8566 - val_accuracy: 0.1190\n",
            "Epoch 93/100\n",
            "4/4 [==============================] - 2s 535ms/step - loss: 0.5876 - accuracy: 0.9831 - val_loss: 7.8978 - val_accuracy: 0.1190\n",
            "Epoch 94/100\n",
            "4/4 [==============================] - 2s 527ms/step - loss: 0.5796 - accuracy: 0.9661 - val_loss: 7.9615 - val_accuracy: 0.1190\n",
            "Epoch 95/100\n",
            "4/4 [==============================] - 2s 527ms/step - loss: 0.5662 - accuracy: 0.9873 - val_loss: 7.9492 - val_accuracy: 0.1190\n",
            "Epoch 96/100\n",
            "4/4 [==============================] - 2s 523ms/step - loss: 0.5662 - accuracy: 0.9703 - val_loss: 7.9233 - val_accuracy: 0.1190\n",
            "Epoch 97/100\n",
            "4/4 [==============================] - 2s 528ms/step - loss: 0.5587 - accuracy: 0.9703 - val_loss: 7.9026 - val_accuracy: 0.1190\n",
            "Epoch 98/100\n",
            "4/4 [==============================] - 2s 527ms/step - loss: 0.5470 - accuracy: 0.9788 - val_loss: 7.8818 - val_accuracy: 0.1190\n",
            "Epoch 99/100\n",
            "4/4 [==============================] - 2s 528ms/step - loss: 0.5478 - accuracy: 0.9703 - val_loss: 7.9565 - val_accuracy: 0.1190\n",
            "Epoch 100/100\n",
            "4/4 [==============================] - 2s 516ms/step - loss: 0.5332 - accuracy: 0.9746 - val_loss: 8.0430 - val_accuracy: 0.1190\n"
          ],
          "name": "stdout"
        }
      ]
    },
    {
      "cell_type": "code",
      "metadata": {
        "id": "tbGeqGEbPD_1"
      },
      "source": [
        "def create_new_model():\n",
        "  initialiser = 'glorot_uniform'\n",
        "  reg_lambda  = 0.001\n",
        "  model = Sequential()\n",
        "  model.add(TimeDistributed(Conv2D(32, (7, 7), strides=(2, 2), padding='same',\n",
        "                                          kernel_initializer=initialiser, kernel_regularizer=L2(l=reg_lambda)),\n",
        "                                    input_shape=(32,80,80,3)))\n",
        "  model.add(TimeDistributed(BatchNormalization()))\n",
        "  model.add(TimeDistributed(Activation('relu')))\n",
        "  model.add(TimeDistributed(Conv2D(32, (3,3), kernel_initializer=initialiser, kernel_regularizer=L2(l=reg_lambda))))\n",
        "  model.add(TimeDistributed(BatchNormalization()))\n",
        "  model.add(TimeDistributed(Activation('relu')))\n",
        "  model.add(TimeDistributed(MaxPooling2D((2, 2), strides=(2, 2))))\n",
        "  model = add_default_block(model, 64,  initals=initialiser, reg_lambda=reg_lambda)\n",
        "  model = add_default_block(model, 128, initals=initialiser, reg_lambda=reg_lambda)\n",
        "  model = add_default_block(model, 256, initals=initialiser, reg_lambda=reg_lambda)\n",
        "  model = add_default_block(model, 512, initals=initialiser, reg_lambda=reg_lambda)\n",
        "  model.add(TimeDistributed(Flatten()))\n",
        "  model.add(LSTM(256, return_sequences=True))\n",
        "  model.add(LSTM(256, return_sequences=False, dropout=0.5))\n",
        "  model.add(Dense(1024, activation='relu'))\n",
        "  model.add(Dropout(0.5))\n",
        "  model.add(Dense(13, activation='softmax'))\n",
        "  return model"
      ],
      "execution_count": null,
      "outputs": []
    },
    {
      "cell_type": "code",
      "metadata": {
        "id": "1UUqrVsHUPLH"
      },
      "source": [
        "model_new = create_new_model()"
      ],
      "execution_count": null,
      "outputs": []
    },
    {
      "cell_type": "code",
      "metadata": {
        "id": "QjpHBXYtUSQE"
      },
      "source": [
        "model_new.compile(optimizer='adam' , loss = 'categorical_crossentropy' , metrics=['accuracy'])"
      ],
      "execution_count": null,
      "outputs": []
    },
    {
      "cell_type": "code",
      "metadata": {
        "id": "ADhMDdUaUjY7",
        "colab": {
          "base_uri": "https://localhost:8080/",
          "height": 52
        },
        "outputId": "9a421dbc-b8fe-436c-cbb2-299049c6c925"
      },
      "source": [
        "model_new.fit(X_train , y_train , epochs=1)"
      ],
      "execution_count": null,
      "outputs": [
        {
          "output_type": "stream",
          "text": [
            "8/8 [==============================] - 2s 256ms/step - loss: 4.2127 - accuracy: 0.1314\n"
          ],
          "name": "stdout"
        },
        {
          "output_type": "execute_result",
          "data": {
            "text/plain": [
              "<tensorflow.python.keras.callbacks.History at 0x7ff17a264fd0>"
            ]
          },
          "metadata": {
            "tags": []
          },
          "execution_count": 25
        }
      ]
    },
    {
      "cell_type": "code",
      "metadata": {
        "id": "zTLOEy75Un4V",
        "colab": {
          "base_uri": "https://localhost:8080/",
          "height": 1000
        },
        "outputId": "f3a1f200-7a2b-4a70-ebf1-a4b1ceb821c3"
      },
      "source": [
        "data_new = model_new.fit(X_train , y_train , batch_size=64 , epochs = 100 , validation_data=(X_test , y_test))"
      ],
      "execution_count": null,
      "outputs": [
        {
          "output_type": "stream",
          "text": [
            "Epoch 1/100\n",
            "4/4 [==============================] - 3s 771ms/step - loss: 4.0880 - accuracy: 0.1356 - val_loss: 4.1261 - val_accuracy: 0.1190\n",
            "Epoch 2/100\n",
            "4/4 [==============================] - 2s 516ms/step - loss: 3.9903 - accuracy: 0.2034 - val_loss: 4.0981 - val_accuracy: 0.0714\n",
            "Epoch 3/100\n",
            "4/4 [==============================] - 2s 531ms/step - loss: 3.8807 - accuracy: 0.2161 - val_loss: 4.1182 - val_accuracy: 0.1190\n",
            "Epoch 4/100\n",
            "4/4 [==============================] - 2s 532ms/step - loss: 3.7719 - accuracy: 0.2034 - val_loss: 4.1546 - val_accuracy: 0.1190\n",
            "Epoch 5/100\n",
            "4/4 [==============================] - 2s 526ms/step - loss: 3.7264 - accuracy: 0.2246 - val_loss: 4.0849 - val_accuracy: 0.1190\n",
            "Epoch 6/100\n",
            "4/4 [==============================] - 2s 535ms/step - loss: 3.6215 - accuracy: 0.2076 - val_loss: 4.0905 - val_accuracy: 0.1190\n",
            "Epoch 7/100\n",
            "4/4 [==============================] - 2s 541ms/step - loss: 3.5511 - accuracy: 0.2161 - val_loss: 4.1174 - val_accuracy: 0.1190\n",
            "Epoch 8/100\n",
            "4/4 [==============================] - 2s 540ms/step - loss: 3.5018 - accuracy: 0.2203 - val_loss: 4.0523 - val_accuracy: 0.1190\n",
            "Epoch 9/100\n",
            "4/4 [==============================] - 2s 538ms/step - loss: 3.4410 - accuracy: 0.2076 - val_loss: 4.0606 - val_accuracy: 0.1190\n",
            "Epoch 10/100\n",
            "4/4 [==============================] - 2s 534ms/step - loss: 3.3489 - accuracy: 0.2500 - val_loss: 4.0606 - val_accuracy: 0.1190\n",
            "Epoch 11/100\n",
            "4/4 [==============================] - 2s 540ms/step - loss: 3.3086 - accuracy: 0.2373 - val_loss: 3.9020 - val_accuracy: 0.1190\n",
            "Epoch 12/100\n",
            "4/4 [==============================] - 2s 533ms/step - loss: 3.2204 - accuracy: 0.2669 - val_loss: 4.0157 - val_accuracy: 0.1190\n",
            "Epoch 13/100\n",
            "4/4 [==============================] - 2s 537ms/step - loss: 3.1661 - accuracy: 0.2627 - val_loss: 4.0537 - val_accuracy: 0.1190\n",
            "Epoch 14/100\n",
            "4/4 [==============================] - 2s 530ms/step - loss: 3.1146 - accuracy: 0.2373 - val_loss: 3.9523 - val_accuracy: 0.1190\n",
            "Epoch 15/100\n",
            "4/4 [==============================] - 2s 533ms/step - loss: 3.0090 - accuracy: 0.2966 - val_loss: 4.1190 - val_accuracy: 0.1190\n",
            "Epoch 16/100\n",
            "4/4 [==============================] - 2s 538ms/step - loss: 3.0001 - accuracy: 0.2669 - val_loss: 4.0222 - val_accuracy: 0.1190\n",
            "Epoch 17/100\n",
            "4/4 [==============================] - 2s 538ms/step - loss: 2.8977 - accuracy: 0.2585 - val_loss: 4.2699 - val_accuracy: 0.1190\n",
            "Epoch 18/100\n",
            "4/4 [==============================] - 2s 535ms/step - loss: 2.8253 - accuracy: 0.2797 - val_loss: 4.5338 - val_accuracy: 0.1190\n",
            "Epoch 19/100\n",
            "4/4 [==============================] - 2s 533ms/step - loss: 2.8137 - accuracy: 0.3220 - val_loss: 4.3252 - val_accuracy: 0.1190\n",
            "Epoch 20/100\n",
            "4/4 [==============================] - 2s 530ms/step - loss: 2.7299 - accuracy: 0.3347 - val_loss: 4.0677 - val_accuracy: 0.1190\n",
            "Epoch 21/100\n",
            "4/4 [==============================] - 2s 529ms/step - loss: 2.8138 - accuracy: 0.2542 - val_loss: 4.3019 - val_accuracy: 0.1190\n",
            "Epoch 22/100\n",
            "4/4 [==============================] - 2s 534ms/step - loss: 2.6159 - accuracy: 0.3390 - val_loss: 3.7304 - val_accuracy: 0.1190\n",
            "Epoch 23/100\n",
            "4/4 [==============================] - 2s 520ms/step - loss: 2.6422 - accuracy: 0.3263 - val_loss: 3.7784 - val_accuracy: 0.1190\n",
            "Epoch 24/100\n",
            "4/4 [==============================] - 2s 524ms/step - loss: 2.5967 - accuracy: 0.3559 - val_loss: 3.8943 - val_accuracy: 0.1190\n",
            "Epoch 25/100\n",
            "4/4 [==============================] - 2s 531ms/step - loss: 2.5494 - accuracy: 0.3559 - val_loss: 3.9604 - val_accuracy: 0.1190\n",
            "Epoch 26/100\n",
            "4/4 [==============================] - 2s 521ms/step - loss: 2.4862 - accuracy: 0.3136 - val_loss: 4.5994 - val_accuracy: 0.1190\n",
            "Epoch 27/100\n",
            "4/4 [==============================] - 2s 518ms/step - loss: 2.4873 - accuracy: 0.3305 - val_loss: 4.3247 - val_accuracy: 0.1190\n",
            "Epoch 28/100\n",
            "4/4 [==============================] - 2s 525ms/step - loss: 2.3974 - accuracy: 0.3475 - val_loss: 5.0838 - val_accuracy: 0.1190\n",
            "Epoch 29/100\n",
            "4/4 [==============================] - 2s 524ms/step - loss: 2.2779 - accuracy: 0.3814 - val_loss: 5.1500 - val_accuracy: 0.1190\n",
            "Epoch 30/100\n",
            "4/4 [==============================] - 2s 531ms/step - loss: 2.3238 - accuracy: 0.3941 - val_loss: 5.3921 - val_accuracy: 0.1190\n",
            "Epoch 31/100\n",
            "4/4 [==============================] - 2s 531ms/step - loss: 2.5658 - accuracy: 0.3093 - val_loss: 4.5297 - val_accuracy: 0.1190\n",
            "Epoch 32/100\n",
            "4/4 [==============================] - 2s 525ms/step - loss: 2.4783 - accuracy: 0.2754 - val_loss: 4.2674 - val_accuracy: 0.1190\n",
            "Epoch 33/100\n",
            "4/4 [==============================] - 2s 525ms/step - loss: 2.3916 - accuracy: 0.3517 - val_loss: 4.3949 - val_accuracy: 0.1190\n",
            "Epoch 34/100\n",
            "4/4 [==============================] - 2s 533ms/step - loss: 2.3456 - accuracy: 0.3602 - val_loss: 4.5217 - val_accuracy: 0.1190\n",
            "Epoch 35/100\n",
            "4/4 [==============================] - 2s 532ms/step - loss: 2.3128 - accuracy: 0.3898 - val_loss: 4.5142 - val_accuracy: 0.1190\n",
            "Epoch 36/100\n",
            "4/4 [==============================] - 2s 532ms/step - loss: 2.2276 - accuracy: 0.4025 - val_loss: 4.4515 - val_accuracy: 0.1190\n",
            "Epoch 37/100\n",
            "4/4 [==============================] - 2s 527ms/step - loss: 2.1102 - accuracy: 0.4237 - val_loss: 4.3162 - val_accuracy: 0.1190\n",
            "Epoch 38/100\n",
            "4/4 [==============================] - 2s 534ms/step - loss: 2.1738 - accuracy: 0.3983 - val_loss: 4.9956 - val_accuracy: 0.1190\n",
            "Epoch 39/100\n",
            "4/4 [==============================] - 2s 529ms/step - loss: 2.2232 - accuracy: 0.3898 - val_loss: 4.8214 - val_accuracy: 0.1190\n",
            "Epoch 40/100\n",
            "4/4 [==============================] - 2s 525ms/step - loss: 2.0657 - accuracy: 0.4407 - val_loss: 4.6880 - val_accuracy: 0.0952\n",
            "Epoch 41/100\n",
            "4/4 [==============================] - 2s 533ms/step - loss: 2.1270 - accuracy: 0.4110 - val_loss: 4.8011 - val_accuracy: 0.0952\n",
            "Epoch 42/100\n",
            "4/4 [==============================] - 2s 529ms/step - loss: 2.0985 - accuracy: 0.4068 - val_loss: 4.8339 - val_accuracy: 0.1190\n",
            "Epoch 43/100\n",
            "4/4 [==============================] - 2s 535ms/step - loss: 1.9814 - accuracy: 0.4788 - val_loss: 5.0779 - val_accuracy: 0.0952\n",
            "Epoch 44/100\n",
            "4/4 [==============================] - 2s 528ms/step - loss: 1.8965 - accuracy: 0.5127 - val_loss: 4.6402 - val_accuracy: 0.0952\n",
            "Epoch 45/100\n",
            "4/4 [==============================] - 2s 533ms/step - loss: 1.9195 - accuracy: 0.4619 - val_loss: 5.2657 - val_accuracy: 0.1190\n",
            "Epoch 46/100\n",
            "4/4 [==============================] - 2s 532ms/step - loss: 1.8644 - accuracy: 0.4788 - val_loss: 4.8973 - val_accuracy: 0.0714\n",
            "Epoch 47/100\n",
            "4/4 [==============================] - 2s 535ms/step - loss: 1.9238 - accuracy: 0.4449 - val_loss: 4.8817 - val_accuracy: 0.1190\n",
            "Epoch 48/100\n",
            "4/4 [==============================] - 2s 534ms/step - loss: 1.9687 - accuracy: 0.4322 - val_loss: 5.8676 - val_accuracy: 0.0952\n",
            "Epoch 49/100\n",
            "4/4 [==============================] - 2s 534ms/step - loss: 1.9578 - accuracy: 0.4873 - val_loss: 5.5726 - val_accuracy: 0.1190\n",
            "Epoch 50/100\n",
            "4/4 [==============================] - 2s 529ms/step - loss: 1.9782 - accuracy: 0.4492 - val_loss: 4.9001 - val_accuracy: 0.1190\n",
            "Epoch 51/100\n",
            "4/4 [==============================] - 2s 528ms/step - loss: 1.8057 - accuracy: 0.5000 - val_loss: 4.9892 - val_accuracy: 0.1667\n",
            "Epoch 52/100\n",
            "4/4 [==============================] - 2s 541ms/step - loss: 1.8725 - accuracy: 0.4619 - val_loss: 5.4956 - val_accuracy: 0.1190\n",
            "Epoch 53/100\n",
            "4/4 [==============================] - 2s 527ms/step - loss: 1.7200 - accuracy: 0.5466 - val_loss: 5.6761 - val_accuracy: 0.0952\n",
            "Epoch 54/100\n",
            "4/4 [==============================] - 2s 539ms/step - loss: 1.7558 - accuracy: 0.5042 - val_loss: 5.8889 - val_accuracy: 0.0952\n",
            "Epoch 55/100\n",
            "4/4 [==============================] - 2s 536ms/step - loss: 1.6664 - accuracy: 0.5508 - val_loss: 6.2415 - val_accuracy: 0.0952\n",
            "Epoch 56/100\n",
            "4/4 [==============================] - 2s 529ms/step - loss: 1.7111 - accuracy: 0.5466 - val_loss: 6.3788 - val_accuracy: 0.1190\n",
            "Epoch 57/100\n",
            "4/4 [==============================] - 2s 527ms/step - loss: 1.6225 - accuracy: 0.5339 - val_loss: 6.4383 - val_accuracy: 0.1190\n",
            "Epoch 58/100\n",
            "4/4 [==============================] - 2s 532ms/step - loss: 1.6782 - accuracy: 0.5212 - val_loss: 6.6062 - val_accuracy: 0.0952\n",
            "Epoch 59/100\n",
            "4/4 [==============================] - 2s 531ms/step - loss: 1.6704 - accuracy: 0.5805 - val_loss: 7.5675 - val_accuracy: 0.1190\n",
            "Epoch 60/100\n",
            "4/4 [==============================] - 2s 520ms/step - loss: 1.5926 - accuracy: 0.5508 - val_loss: 6.5144 - val_accuracy: 0.1190\n",
            "Epoch 61/100\n",
            "4/4 [==============================] - 2s 525ms/step - loss: 1.7053 - accuracy: 0.5000 - val_loss: 5.8362 - val_accuracy: 0.1429\n",
            "Epoch 62/100\n",
            "4/4 [==============================] - 2s 521ms/step - loss: 1.5998 - accuracy: 0.5127 - val_loss: 5.4413 - val_accuracy: 0.1667\n",
            "Epoch 63/100\n",
            "4/4 [==============================] - 2s 518ms/step - loss: 1.5519 - accuracy: 0.5720 - val_loss: 6.7611 - val_accuracy: 0.1190\n",
            "Epoch 64/100\n",
            "4/4 [==============================] - 2s 522ms/step - loss: 1.4405 - accuracy: 0.6059 - val_loss: 5.9375 - val_accuracy: 0.1429\n",
            "Epoch 65/100\n",
            "4/4 [==============================] - 2s 531ms/step - loss: 1.4769 - accuracy: 0.6017 - val_loss: 7.0676 - val_accuracy: 0.1429\n",
            "Epoch 66/100\n",
            "4/4 [==============================] - 2s 524ms/step - loss: 1.4066 - accuracy: 0.6017 - val_loss: 6.4416 - val_accuracy: 0.1190\n",
            "Epoch 67/100\n",
            "4/4 [==============================] - 2s 526ms/step - loss: 1.3546 - accuracy: 0.6356 - val_loss: 6.8745 - val_accuracy: 0.1190\n",
            "Epoch 68/100\n",
            "4/4 [==============================] - 2s 529ms/step - loss: 1.4881 - accuracy: 0.6102 - val_loss: 5.8096 - val_accuracy: 0.1190\n",
            "Epoch 69/100\n",
            "4/4 [==============================] - 2s 527ms/step - loss: 1.6534 - accuracy: 0.5508 - val_loss: 6.1073 - val_accuracy: 0.0952\n",
            "Epoch 70/100\n",
            "4/4 [==============================] - 2s 523ms/step - loss: 1.6240 - accuracy: 0.5212 - val_loss: 5.9438 - val_accuracy: 0.0952\n",
            "Epoch 71/100\n",
            "4/4 [==============================] - 2s 527ms/step - loss: 1.6780 - accuracy: 0.5593 - val_loss: 5.9624 - val_accuracy: 0.0476\n",
            "Epoch 72/100\n",
            "4/4 [==============================] - 2s 530ms/step - loss: 1.6107 - accuracy: 0.5805 - val_loss: 5.0336 - val_accuracy: 0.1190\n",
            "Epoch 73/100\n",
            "4/4 [==============================] - 2s 536ms/step - loss: 1.5911 - accuracy: 0.5890 - val_loss: 4.9050 - val_accuracy: 0.1667\n",
            "Epoch 74/100\n",
            "4/4 [==============================] - 2s 529ms/step - loss: 1.4637 - accuracy: 0.6271 - val_loss: 5.4181 - val_accuracy: 0.1905\n",
            "Epoch 75/100\n",
            "4/4 [==============================] - 2s 536ms/step - loss: 1.4582 - accuracy: 0.6356 - val_loss: 5.4963 - val_accuracy: 0.2381\n",
            "Epoch 76/100\n",
            "4/4 [==============================] - 2s 530ms/step - loss: 1.3789 - accuracy: 0.6780 - val_loss: 6.1294 - val_accuracy: 0.2143\n",
            "Epoch 77/100\n",
            "4/4 [==============================] - 2s 529ms/step - loss: 1.3633 - accuracy: 0.6525 - val_loss: 5.7326 - val_accuracy: 0.1429\n",
            "Epoch 78/100\n",
            "4/4 [==============================] - 2s 536ms/step - loss: 1.3759 - accuracy: 0.6695 - val_loss: 6.2565 - val_accuracy: 0.0238\n",
            "Epoch 79/100\n",
            "4/4 [==============================] - 2s 532ms/step - loss: 1.4612 - accuracy: 0.6441 - val_loss: 5.7429 - val_accuracy: 0.1429\n",
            "Epoch 80/100\n",
            "4/4 [==============================] - 2s 528ms/step - loss: 1.2703 - accuracy: 0.6653 - val_loss: 5.9376 - val_accuracy: 0.0476\n",
            "Epoch 81/100\n",
            "4/4 [==============================] - 2s 521ms/step - loss: 1.2903 - accuracy: 0.6992 - val_loss: 5.4699 - val_accuracy: 0.1429\n",
            "Epoch 82/100\n",
            "4/4 [==============================] - 2s 532ms/step - loss: 1.3816 - accuracy: 0.6695 - val_loss: 6.0905 - val_accuracy: 0.1429\n",
            "Epoch 83/100\n",
            "4/4 [==============================] - 2s 523ms/step - loss: 1.4083 - accuracy: 0.6780 - val_loss: 6.1031 - val_accuracy: 0.1667\n",
            "Epoch 84/100\n",
            "4/4 [==============================] - 2s 533ms/step - loss: 1.2925 - accuracy: 0.6907 - val_loss: 5.5772 - val_accuracy: 0.1429\n",
            "Epoch 85/100\n",
            "4/4 [==============================] - 2s 529ms/step - loss: 1.2331 - accuracy: 0.7203 - val_loss: 5.9078 - val_accuracy: 0.0952\n",
            "Epoch 86/100\n",
            "4/4 [==============================] - 2s 522ms/step - loss: 1.1343 - accuracy: 0.7754 - val_loss: 5.8276 - val_accuracy: 0.0476\n",
            "Epoch 87/100\n",
            "4/4 [==============================] - 2s 528ms/step - loss: 1.2386 - accuracy: 0.7331 - val_loss: 6.3230 - val_accuracy: 0.0000e+00\n",
            "Epoch 88/100\n",
            "4/4 [==============================] - 2s 527ms/step - loss: 1.1465 - accuracy: 0.7373 - val_loss: 6.6065 - val_accuracy: 0.0714\n",
            "Epoch 89/100\n",
            "4/4 [==============================] - 2s 533ms/step - loss: 1.1930 - accuracy: 0.7331 - val_loss: 6.8118 - val_accuracy: 0.0714\n",
            "Epoch 90/100\n",
            "4/4 [==============================] - 2s 536ms/step - loss: 1.2254 - accuracy: 0.7542 - val_loss: 6.1813 - val_accuracy: 0.1190\n",
            "Epoch 91/100\n",
            "4/4 [==============================] - 2s 536ms/step - loss: 1.0869 - accuracy: 0.7669 - val_loss: 5.9147 - val_accuracy: 0.2143\n",
            "Epoch 92/100\n",
            "4/4 [==============================] - 2s 534ms/step - loss: 1.0165 - accuracy: 0.8305 - val_loss: 6.0671 - val_accuracy: 0.1429\n",
            "Epoch 93/100\n",
            "4/4 [==============================] - 2s 535ms/step - loss: 0.9509 - accuracy: 0.8347 - val_loss: 6.3049 - val_accuracy: 0.1190\n",
            "Epoch 94/100\n",
            "4/4 [==============================] - 2s 519ms/step - loss: 0.9336 - accuracy: 0.8305 - val_loss: 7.0866 - val_accuracy: 0.1190\n",
            "Epoch 95/100\n",
            "4/4 [==============================] - 2s 530ms/step - loss: 0.9913 - accuracy: 0.8263 - val_loss: 7.0367 - val_accuracy: 0.0714\n",
            "Epoch 96/100\n",
            "4/4 [==============================] - 2s 528ms/step - loss: 0.9214 - accuracy: 0.8390 - val_loss: 6.7456 - val_accuracy: 0.2143\n",
            "Epoch 97/100\n",
            "4/4 [==============================] - 2s 530ms/step - loss: 1.0206 - accuracy: 0.8008 - val_loss: 6.5357 - val_accuracy: 0.1429\n",
            "Epoch 98/100\n",
            "4/4 [==============================] - 2s 539ms/step - loss: 0.9556 - accuracy: 0.8093 - val_loss: 6.9144 - val_accuracy: 0.0952\n",
            "Epoch 99/100\n",
            "4/4 [==============================] - 2s 530ms/step - loss: 0.9121 - accuracy: 0.8347 - val_loss: 6.7298 - val_accuracy: 0.0952\n",
            "Epoch 100/100\n",
            "4/4 [==============================] - 2s 523ms/step - loss: 1.0687 - accuracy: 0.8051 - val_loss: 6.5676 - val_accuracy: 0.0476\n"
          ],
          "name": "stdout"
        }
      ]
    },
    {
      "cell_type": "code",
      "metadata": {
        "id": "WysHuRvvUvN9"
      },
      "source": [
        "def create_model_three():\n",
        "  initialiser = 'glorot_uniform'\n",
        "  reg_lambda  = 0.001\n",
        "  model = Sequential()\n",
        "  model.add(TimeDistributed(Conv2D(32, (7, 7), strides=(2, 2), padding='same',\n",
        "                                          kernel_initializer=initialiser, kernel_regularizer=L2(l=reg_lambda)),\n",
        "                                    input_shape=(32,80,80,3)))\n",
        "  model.add(TimeDistributed(BatchNormalization()))\n",
        "  model.add(TimeDistributed(Activation('relu')))\n",
        "  model.add(TimeDistributed(Conv2D(32, (3,3), kernel_initializer=initialiser, kernel_regularizer=L2(l=reg_lambda))))\n",
        "  model.add(TimeDistributed(BatchNormalization()))\n",
        "  model.add(TimeDistributed(Activation('relu')))\n",
        "  model.add(TimeDistributed(MaxPooling2D((2, 2), strides=(2, 2))))\n",
        "  model = add_default_block(model, 64,  initals=initialiser, reg_lambda=reg_lambda)\n",
        "  model = add_default_block(model, 128, initals=initialiser, reg_lambda=reg_lambda)\n",
        "  model = add_default_block(model, 256, initals=initialiser, reg_lambda=reg_lambda)\n",
        "  model = add_default_block(model, 512, initals=initialiser, reg_lambda=reg_lambda)\n",
        "  model.add(TimeDistributed(Flatten()))\n",
        "  model.add(LSTM(256, return_sequences=True))\n",
        "  model.add(LSTM(256, return_sequences=False, dropout=0.5))\n",
        "  model.add(Dense(13, activation='softmax'))\n",
        "  return model"
      ],
      "execution_count": null,
      "outputs": []
    },
    {
      "cell_type": "code",
      "metadata": {
        "id": "vb1k2nMDVpvc"
      },
      "source": [
        "model_three = create_model_three()"
      ],
      "execution_count": null,
      "outputs": []
    },
    {
      "cell_type": "code",
      "metadata": {
        "id": "MdtNbe_KVxor"
      },
      "source": [
        "model_three.compile(optimizer='adam' , loss = 'categorical_crossentropy' , metrics=['accuracy'])"
      ],
      "execution_count": null,
      "outputs": []
    },
    {
      "cell_type": "code",
      "metadata": {
        "id": "KchtvjxuV4IN",
        "colab": {
          "base_uri": "https://localhost:8080/",
          "height": 52
        },
        "outputId": "aae468ac-338b-47a9-cf66-f1340b7d4e8b"
      },
      "source": [
        "model_three.fit(X_train , y_train , epochs = 1)"
      ],
      "execution_count": null,
      "outputs": [
        {
          "output_type": "stream",
          "text": [
            "8/8 [==============================] - 2s 260ms/step - loss: 4.2650 - accuracy: 0.1186\n"
          ],
          "name": "stdout"
        },
        {
          "output_type": "execute_result",
          "data": {
            "text/plain": [
              "<tensorflow.python.keras.callbacks.History at 0x7ff166103f98>"
            ]
          },
          "metadata": {
            "tags": []
          },
          "execution_count": 30
        }
      ]
    },
    {
      "cell_type": "code",
      "metadata": {
        "id": "NxX3sQElWIf_",
        "colab": {
          "base_uri": "https://localhost:8080/",
          "height": 1000
        },
        "outputId": "e4e5b8ae-417a-4e06-a139-698a52fb9f36"
      },
      "source": [
        "model_three.summary()"
      ],
      "execution_count": null,
      "outputs": [
        {
          "output_type": "stream",
          "text": [
            "Model: \"sequential_2\"\n",
            "_________________________________________________________________\n",
            "Layer (type)                 Output Shape              Param #   \n",
            "=================================================================\n",
            "time_distributed_72 (TimeDis (None, 32, 40, 40, 32)    4736      \n",
            "_________________________________________________________________\n",
            "time_distributed_73 (TimeDis (None, 32, 40, 40, 32)    128       \n",
            "_________________________________________________________________\n",
            "time_distributed_74 (TimeDis (None, 32, 40, 40, 32)    0         \n",
            "_________________________________________________________________\n",
            "time_distributed_75 (TimeDis (None, 32, 38, 38, 32)    9248      \n",
            "_________________________________________________________________\n",
            "time_distributed_76 (TimeDis (None, 32, 38, 38, 32)    128       \n",
            "_________________________________________________________________\n",
            "time_distributed_77 (TimeDis (None, 32, 38, 38, 32)    0         \n",
            "_________________________________________________________________\n",
            "time_distributed_78 (TimeDis (None, 32, 19, 19, 32)    0         \n",
            "_________________________________________________________________\n",
            "time_distributed_79 (TimeDis (None, 32, 19, 19, 64)    18496     \n",
            "_________________________________________________________________\n",
            "time_distributed_80 (TimeDis (None, 32, 19, 19, 64)    256       \n",
            "_________________________________________________________________\n",
            "time_distributed_81 (TimeDis (None, 32, 19, 19, 64)    0         \n",
            "_________________________________________________________________\n",
            "time_distributed_82 (TimeDis (None, 32, 19, 19, 64)    36928     \n",
            "_________________________________________________________________\n",
            "time_distributed_83 (TimeDis (None, 32, 19, 19, 64)    256       \n",
            "_________________________________________________________________\n",
            "time_distributed_84 (TimeDis (None, 32, 19, 19, 64)    0         \n",
            "_________________________________________________________________\n",
            "time_distributed_85 (TimeDis (None, 32, 9, 9, 64)      0         \n",
            "_________________________________________________________________\n",
            "time_distributed_86 (TimeDis (None, 32, 9, 9, 128)     73856     \n",
            "_________________________________________________________________\n",
            "time_distributed_87 (TimeDis (None, 32, 9, 9, 128)     512       \n",
            "_________________________________________________________________\n",
            "time_distributed_88 (TimeDis (None, 32, 9, 9, 128)     0         \n",
            "_________________________________________________________________\n",
            "time_distributed_89 (TimeDis (None, 32, 9, 9, 128)     147584    \n",
            "_________________________________________________________________\n",
            "time_distributed_90 (TimeDis (None, 32, 9, 9, 128)     512       \n",
            "_________________________________________________________________\n",
            "time_distributed_91 (TimeDis (None, 32, 9, 9, 128)     0         \n",
            "_________________________________________________________________\n",
            "time_distributed_92 (TimeDis (None, 32, 4, 4, 128)     0         \n",
            "_________________________________________________________________\n",
            "time_distributed_93 (TimeDis (None, 32, 4, 4, 256)     295168    \n",
            "_________________________________________________________________\n",
            "time_distributed_94 (TimeDis (None, 32, 4, 4, 256)     1024      \n",
            "_________________________________________________________________\n",
            "time_distributed_95 (TimeDis (None, 32, 4, 4, 256)     0         \n",
            "_________________________________________________________________\n",
            "time_distributed_96 (TimeDis (None, 32, 4, 4, 256)     590080    \n",
            "_________________________________________________________________\n",
            "time_distributed_97 (TimeDis (None, 32, 4, 4, 256)     1024      \n",
            "_________________________________________________________________\n",
            "time_distributed_98 (TimeDis (None, 32, 4, 4, 256)     0         \n",
            "_________________________________________________________________\n",
            "time_distributed_99 (TimeDis (None, 32, 2, 2, 256)     0         \n",
            "_________________________________________________________________\n",
            "time_distributed_100 (TimeDi (None, 32, 2, 2, 512)     1180160   \n",
            "_________________________________________________________________\n",
            "time_distributed_101 (TimeDi (None, 32, 2, 2, 512)     2048      \n",
            "_________________________________________________________________\n",
            "time_distributed_102 (TimeDi (None, 32, 2, 2, 512)     0         \n",
            "_________________________________________________________________\n",
            "time_distributed_103 (TimeDi (None, 32, 2, 2, 512)     2359808   \n",
            "_________________________________________________________________\n",
            "time_distributed_104 (TimeDi (None, 32, 2, 2, 512)     2048      \n",
            "_________________________________________________________________\n",
            "time_distributed_105 (TimeDi (None, 32, 2, 2, 512)     0         \n",
            "_________________________________________________________________\n",
            "time_distributed_106 (TimeDi (None, 32, 1, 1, 512)     0         \n",
            "_________________________________________________________________\n",
            "time_distributed_107 (TimeDi (None, 32, 512)           0         \n",
            "_________________________________________________________________\n",
            "lstm_3 (LSTM)                (None, 32, 256)           787456    \n",
            "_________________________________________________________________\n",
            "lstm_4 (LSTM)                (None, 256)               525312    \n",
            "_________________________________________________________________\n",
            "dense_3 (Dense)              (None, 13)                3341      \n",
            "=================================================================\n",
            "Total params: 6,040,109\n",
            "Trainable params: 6,036,141\n",
            "Non-trainable params: 3,968\n",
            "_________________________________________________________________\n"
          ],
          "name": "stdout"
        }
      ]
    },
    {
      "cell_type": "code",
      "metadata": {
        "id": "ESNHkuwIV96J",
        "colab": {
          "base_uri": "https://localhost:8080/",
          "height": 1000
        },
        "outputId": "20566ba2-d6ed-4cab-8a83-ede73256904a"
      },
      "source": [
        "data_three = model_three.fit(X_train , y_train , batch_size=64 , epochs = 100 , validation_data=(X_test , y_test))"
      ],
      "execution_count": null,
      "outputs": [
        {
          "output_type": "stream",
          "text": [
            "Epoch 1/100\n",
            "4/4 [==============================] - 3s 777ms/step - loss: 4.1035 - accuracy: 0.1059 - val_loss: 4.1590 - val_accuracy: 0.1190\n",
            "Epoch 2/100\n",
            "4/4 [==============================] - 2s 532ms/step - loss: 4.0008 - accuracy: 0.2034 - val_loss: 4.1453 - val_accuracy: 0.1190\n",
            "Epoch 3/100\n",
            "4/4 [==============================] - 2s 528ms/step - loss: 3.9581 - accuracy: 0.1864 - val_loss: 4.1782 - val_accuracy: 0.1190\n",
            "Epoch 4/100\n",
            "4/4 [==============================] - 2s 526ms/step - loss: 3.8452 - accuracy: 0.2288 - val_loss: 4.1431 - val_accuracy: 0.1190\n",
            "Epoch 5/100\n",
            "4/4 [==============================] - 2s 531ms/step - loss: 3.7342 - accuracy: 0.2331 - val_loss: 4.1493 - val_accuracy: 0.1190\n",
            "Epoch 6/100\n",
            "4/4 [==============================] - 2s 528ms/step - loss: 3.6570 - accuracy: 0.2415 - val_loss: 4.2684 - val_accuracy: 0.1190\n",
            "Epoch 7/100\n",
            "4/4 [==============================] - 2s 535ms/step - loss: 3.6208 - accuracy: 0.2288 - val_loss: 4.2240 - val_accuracy: 0.1190\n",
            "Epoch 8/100\n",
            "4/4 [==============================] - 2s 534ms/step - loss: 3.5674 - accuracy: 0.2246 - val_loss: 4.1968 - val_accuracy: 0.1190\n",
            "Epoch 9/100\n",
            "4/4 [==============================] - 2s 536ms/step - loss: 3.4588 - accuracy: 0.2542 - val_loss: 4.2331 - val_accuracy: 0.1190\n",
            "Epoch 10/100\n",
            "4/4 [==============================] - 2s 528ms/step - loss: 3.3451 - accuracy: 0.3178 - val_loss: 4.2606 - val_accuracy: 0.1190\n",
            "Epoch 11/100\n",
            "4/4 [==============================] - 2s 534ms/step - loss: 3.2594 - accuracy: 0.2797 - val_loss: 4.4093 - val_accuracy: 0.1190\n",
            "Epoch 12/100\n",
            "4/4 [==============================] - 2s 530ms/step - loss: 3.2086 - accuracy: 0.2924 - val_loss: 4.4808 - val_accuracy: 0.1190\n",
            "Epoch 13/100\n",
            "4/4 [==============================] - 2s 527ms/step - loss: 3.1570 - accuracy: 0.3136 - val_loss: 4.4675 - val_accuracy: 0.1190\n",
            "Epoch 14/100\n",
            "4/4 [==============================] - 2s 530ms/step - loss: 3.0887 - accuracy: 0.3178 - val_loss: 4.6079 - val_accuracy: 0.1190\n",
            "Epoch 15/100\n",
            "4/4 [==============================] - 2s 525ms/step - loss: 2.9954 - accuracy: 0.3093 - val_loss: 4.7461 - val_accuracy: 0.1190\n",
            "Epoch 16/100\n",
            "4/4 [==============================] - 2s 528ms/step - loss: 2.9760 - accuracy: 0.3093 - val_loss: 4.8040 - val_accuracy: 0.1190\n",
            "Epoch 17/100\n",
            "4/4 [==============================] - 2s 530ms/step - loss: 2.9222 - accuracy: 0.3008 - val_loss: 5.1297 - val_accuracy: 0.1190\n",
            "Epoch 18/100\n",
            "4/4 [==============================] - 2s 525ms/step - loss: 2.9336 - accuracy: 0.3178 - val_loss: 4.5171 - val_accuracy: 0.1190\n",
            "Epoch 19/100\n",
            "4/4 [==============================] - 2s 532ms/step - loss: 2.8519 - accuracy: 0.3220 - val_loss: 4.4529 - val_accuracy: 0.1190\n",
            "Epoch 20/100\n",
            "4/4 [==============================] - 2s 532ms/step - loss: 2.8899 - accuracy: 0.3136 - val_loss: 4.4355 - val_accuracy: 0.1190\n",
            "Epoch 21/100\n",
            "4/4 [==============================] - 2s 522ms/step - loss: 2.7741 - accuracy: 0.3602 - val_loss: 4.7781 - val_accuracy: 0.1190\n",
            "Epoch 22/100\n",
            "4/4 [==============================] - 2s 534ms/step - loss: 2.6571 - accuracy: 0.3771 - val_loss: 4.6687 - val_accuracy: 0.1190\n",
            "Epoch 23/100\n",
            "4/4 [==============================] - 2s 531ms/step - loss: 2.6043 - accuracy: 0.4110 - val_loss: 4.9265 - val_accuracy: 0.1190\n",
            "Epoch 24/100\n",
            "4/4 [==============================] - 2s 532ms/step - loss: 2.5585 - accuracy: 0.3941 - val_loss: 5.0222 - val_accuracy: 0.1190\n",
            "Epoch 25/100\n",
            "4/4 [==============================] - 2s 528ms/step - loss: 2.4712 - accuracy: 0.4280 - val_loss: 5.0940 - val_accuracy: 0.1190\n",
            "Epoch 26/100\n",
            "4/4 [==============================] - 2s 526ms/step - loss: 2.3924 - accuracy: 0.4237 - val_loss: 5.3969 - val_accuracy: 0.1190\n",
            "Epoch 27/100\n",
            "4/4 [==============================] - 2s 526ms/step - loss: 2.4012 - accuracy: 0.4195 - val_loss: 5.2552 - val_accuracy: 0.1190\n",
            "Epoch 28/100\n",
            "4/4 [==============================] - 2s 525ms/step - loss: 2.2970 - accuracy: 0.4492 - val_loss: 5.3427 - val_accuracy: 0.1190\n",
            "Epoch 29/100\n",
            "4/4 [==============================] - 2s 525ms/step - loss: 2.2090 - accuracy: 0.4661 - val_loss: 5.5991 - val_accuracy: 0.1190\n",
            "Epoch 30/100\n",
            "4/4 [==============================] - 2s 527ms/step - loss: 2.2912 - accuracy: 0.4153 - val_loss: 5.0852 - val_accuracy: 0.1190\n",
            "Epoch 31/100\n",
            "4/4 [==============================] - 2s 521ms/step - loss: 2.2981 - accuracy: 0.4788 - val_loss: 5.5899 - val_accuracy: 0.1190\n",
            "Epoch 32/100\n",
            "4/4 [==============================] - 2s 526ms/step - loss: 2.2046 - accuracy: 0.4619 - val_loss: 5.6602 - val_accuracy: 0.1190\n",
            "Epoch 33/100\n",
            "4/4 [==============================] - 2s 523ms/step - loss: 2.0356 - accuracy: 0.5339 - val_loss: 6.1613 - val_accuracy: 0.1190\n",
            "Epoch 34/100\n",
            "4/4 [==============================] - 2s 530ms/step - loss: 2.1128 - accuracy: 0.5085 - val_loss: 5.5870 - val_accuracy: 0.1190\n",
            "Epoch 35/100\n",
            "4/4 [==============================] - 2s 524ms/step - loss: 2.0593 - accuracy: 0.5297 - val_loss: 6.0590 - val_accuracy: 0.1190\n",
            "Epoch 36/100\n",
            "4/4 [==============================] - 2s 525ms/step - loss: 1.9442 - accuracy: 0.5508 - val_loss: 5.5898 - val_accuracy: 0.1190\n",
            "Epoch 37/100\n",
            "4/4 [==============================] - 2s 528ms/step - loss: 2.0860 - accuracy: 0.4407 - val_loss: 6.1937 - val_accuracy: 0.1190\n",
            "Epoch 38/100\n",
            "4/4 [==============================] - 2s 528ms/step - loss: 1.9225 - accuracy: 0.5127 - val_loss: 5.4678 - val_accuracy: 0.1190\n",
            "Epoch 39/100\n",
            "4/4 [==============================] - 2s 525ms/step - loss: 2.0012 - accuracy: 0.4534 - val_loss: 6.0302 - val_accuracy: 0.0952\n",
            "Epoch 40/100\n",
            "4/4 [==============================] - 2s 526ms/step - loss: 1.9990 - accuracy: 0.4915 - val_loss: 5.5233 - val_accuracy: 0.1190\n",
            "Epoch 41/100\n",
            "4/4 [==============================] - 2s 525ms/step - loss: 1.8647 - accuracy: 0.5212 - val_loss: 6.5005 - val_accuracy: 0.1190\n",
            "Epoch 42/100\n",
            "4/4 [==============================] - 2s 530ms/step - loss: 1.9080 - accuracy: 0.5169 - val_loss: 6.0656 - val_accuracy: 0.1190\n",
            "Epoch 43/100\n",
            "4/4 [==============================] - 2s 534ms/step - loss: 1.8325 - accuracy: 0.5975 - val_loss: 6.1727 - val_accuracy: 0.1190\n",
            "Epoch 44/100\n",
            "4/4 [==============================] - 2s 535ms/step - loss: 1.8867 - accuracy: 0.5169 - val_loss: 6.2988 - val_accuracy: 0.1190\n",
            "Epoch 45/100\n",
            "4/4 [==============================] - 2s 529ms/step - loss: 1.7101 - accuracy: 0.5890 - val_loss: 5.3197 - val_accuracy: 0.1429\n",
            "Epoch 46/100\n",
            "4/4 [==============================] - 2s 525ms/step - loss: 1.7370 - accuracy: 0.5932 - val_loss: 5.9834 - val_accuracy: 0.1190\n",
            "Epoch 47/100\n",
            "4/4 [==============================] - 2s 531ms/step - loss: 1.6735 - accuracy: 0.6144 - val_loss: 6.0611 - val_accuracy: 0.1429\n",
            "Epoch 48/100\n",
            "4/4 [==============================] - 2s 526ms/step - loss: 1.5841 - accuracy: 0.6356 - val_loss: 5.2530 - val_accuracy: 0.0714\n",
            "Epoch 49/100\n",
            "4/4 [==============================] - 2s 532ms/step - loss: 1.4611 - accuracy: 0.6949 - val_loss: 5.6161 - val_accuracy: 0.0952\n",
            "Epoch 50/100\n",
            "4/4 [==============================] - 2s 528ms/step - loss: 1.4543 - accuracy: 0.7119 - val_loss: 5.5296 - val_accuracy: 0.1190\n",
            "Epoch 51/100\n",
            "4/4 [==============================] - 2s 535ms/step - loss: 1.4758 - accuracy: 0.6822 - val_loss: 5.5552 - val_accuracy: 0.0476\n",
            "Epoch 52/100\n",
            "4/4 [==============================] - 2s 536ms/step - loss: 1.5127 - accuracy: 0.6653 - val_loss: 5.4117 - val_accuracy: 0.1190\n",
            "Epoch 53/100\n",
            "4/4 [==============================] - 2s 524ms/step - loss: 1.5541 - accuracy: 0.6653 - val_loss: 5.4345 - val_accuracy: 0.0952\n",
            "Epoch 54/100\n",
            "4/4 [==============================] - 2s 528ms/step - loss: 1.5786 - accuracy: 0.6525 - val_loss: 5.6361 - val_accuracy: 0.1429\n",
            "Epoch 55/100\n",
            "4/4 [==============================] - 2s 528ms/step - loss: 1.4792 - accuracy: 0.6398 - val_loss: 5.7654 - val_accuracy: 0.1190\n",
            "Epoch 56/100\n",
            "4/4 [==============================] - 2s 528ms/step - loss: 1.5449 - accuracy: 0.6568 - val_loss: 6.0562 - val_accuracy: 0.1429\n",
            "Epoch 57/100\n",
            "4/4 [==============================] - 2s 536ms/step - loss: 1.4987 - accuracy: 0.6695 - val_loss: 5.7656 - val_accuracy: 0.0952\n",
            "Epoch 58/100\n",
            "4/4 [==============================] - 2s 532ms/step - loss: 1.5447 - accuracy: 0.6568 - val_loss: 5.8220 - val_accuracy: 0.0952\n",
            "Epoch 59/100\n",
            "4/4 [==============================] - 2s 532ms/step - loss: 1.4912 - accuracy: 0.6441 - val_loss: 5.9076 - val_accuracy: 0.0714\n",
            "Epoch 60/100\n",
            "4/4 [==============================] - 2s 534ms/step - loss: 1.3404 - accuracy: 0.7161 - val_loss: 5.9605 - val_accuracy: 0.0714\n",
            "Epoch 61/100\n",
            "4/4 [==============================] - 2s 530ms/step - loss: 1.2962 - accuracy: 0.7458 - val_loss: 5.9189 - val_accuracy: 0.0952\n",
            "Epoch 62/100\n",
            "4/4 [==============================] - 2s 533ms/step - loss: 1.2489 - accuracy: 0.7500 - val_loss: 6.1756 - val_accuracy: 0.0476\n",
            "Epoch 63/100\n",
            "4/4 [==============================] - 2s 524ms/step - loss: 1.2288 - accuracy: 0.7924 - val_loss: 6.3646 - val_accuracy: 0.0952\n",
            "Epoch 64/100\n",
            "4/4 [==============================] - 2s 530ms/step - loss: 1.1455 - accuracy: 0.8051 - val_loss: 5.9882 - val_accuracy: 0.1190\n",
            "Epoch 65/100\n",
            "4/4 [==============================] - 2s 532ms/step - loss: 1.1370 - accuracy: 0.7881 - val_loss: 6.2610 - val_accuracy: 0.0952\n",
            "Epoch 66/100\n",
            "4/4 [==============================] - 2s 534ms/step - loss: 1.1410 - accuracy: 0.8220 - val_loss: 6.8407 - val_accuracy: 0.0476\n",
            "Epoch 67/100\n",
            "4/4 [==============================] - 2s 529ms/step - loss: 1.1423 - accuracy: 0.8136 - val_loss: 6.2947 - val_accuracy: 0.0714\n",
            "Epoch 68/100\n",
            "4/4 [==============================] - 2s 531ms/step - loss: 1.1347 - accuracy: 0.8051 - val_loss: 6.5024 - val_accuracy: 0.0476\n",
            "Epoch 69/100\n",
            "4/4 [==============================] - 2s 536ms/step - loss: 1.1464 - accuracy: 0.8178 - val_loss: 6.3151 - val_accuracy: 0.1429\n",
            "Epoch 70/100\n",
            "4/4 [==============================] - 2s 528ms/step - loss: 1.0453 - accuracy: 0.8390 - val_loss: 6.7464 - val_accuracy: 0.0476\n",
            "Epoch 71/100\n",
            "4/4 [==============================] - 2s 531ms/step - loss: 1.0690 - accuracy: 0.8178 - val_loss: 7.2392 - val_accuracy: 0.0476\n",
            "Epoch 72/100\n",
            "4/4 [==============================] - 2s 526ms/step - loss: 1.1304 - accuracy: 0.8008 - val_loss: 7.0080 - val_accuracy: 0.1190\n",
            "Epoch 73/100\n",
            "4/4 [==============================] - 2s 533ms/step - loss: 1.1783 - accuracy: 0.7924 - val_loss: 6.5559 - val_accuracy: 0.1190\n",
            "Epoch 74/100\n",
            "4/4 [==============================] - 2s 530ms/step - loss: 1.1985 - accuracy: 0.7797 - val_loss: 6.5974 - val_accuracy: 0.0476\n",
            "Epoch 75/100\n",
            "4/4 [==============================] - 2s 529ms/step - loss: 1.2424 - accuracy: 0.7839 - val_loss: 6.0109 - val_accuracy: 0.0714\n",
            "Epoch 76/100\n",
            "4/4 [==============================] - 2s 519ms/step - loss: 1.1737 - accuracy: 0.7966 - val_loss: 5.4829 - val_accuracy: 0.1429\n",
            "Epoch 77/100\n",
            "4/4 [==============================] - 2s 524ms/step - loss: 1.2180 - accuracy: 0.7839 - val_loss: 5.6434 - val_accuracy: 0.0714\n",
            "Epoch 78/100\n",
            "4/4 [==============================] - 2s 528ms/step - loss: 1.1853 - accuracy: 0.8051 - val_loss: 5.4123 - val_accuracy: 0.1190\n",
            "Epoch 79/100\n",
            "4/4 [==============================] - 2s 518ms/step - loss: 1.1365 - accuracy: 0.8390 - val_loss: 5.7180 - val_accuracy: 0.1190\n",
            "Epoch 80/100\n",
            "4/4 [==============================] - 2s 525ms/step - loss: 1.0176 - accuracy: 0.8559 - val_loss: 5.9399 - val_accuracy: 0.0952\n",
            "Epoch 81/100\n",
            "4/4 [==============================] - 2s 532ms/step - loss: 1.0822 - accuracy: 0.8390 - val_loss: 6.0957 - val_accuracy: 0.0952\n",
            "Epoch 82/100\n",
            "4/4 [==============================] - 2s 532ms/step - loss: 1.0102 - accuracy: 0.8432 - val_loss: 6.1973 - val_accuracy: 0.0714\n",
            "Epoch 83/100\n",
            "4/4 [==============================] - 2s 521ms/step - loss: 1.0060 - accuracy: 0.8644 - val_loss: 6.4358 - val_accuracy: 0.0714\n",
            "Epoch 84/100\n",
            "4/4 [==============================] - 2s 535ms/step - loss: 0.9785 - accuracy: 0.8644 - val_loss: 6.6925 - val_accuracy: 0.0952\n",
            "Epoch 85/100\n",
            "4/4 [==============================] - 2s 534ms/step - loss: 1.0642 - accuracy: 0.8432 - val_loss: 6.8673 - val_accuracy: 0.0476\n",
            "Epoch 86/100\n",
            "4/4 [==============================] - 2s 533ms/step - loss: 0.9918 - accuracy: 0.8559 - val_loss: 6.8803 - val_accuracy: 0.0476\n",
            "Epoch 87/100\n",
            "4/4 [==============================] - 2s 527ms/step - loss: 0.9558 - accuracy: 0.8771 - val_loss: 6.6197 - val_accuracy: 0.0952\n",
            "Epoch 88/100\n",
            "4/4 [==============================] - 2s 531ms/step - loss: 0.8543 - accuracy: 0.9068 - val_loss: 6.5382 - val_accuracy: 0.0714\n",
            "Epoch 89/100\n",
            "4/4 [==============================] - 2s 530ms/step - loss: 0.9169 - accuracy: 0.8814 - val_loss: 6.3638 - val_accuracy: 0.1429\n",
            "Epoch 90/100\n",
            "4/4 [==============================] - 2s 529ms/step - loss: 0.8561 - accuracy: 0.9195 - val_loss: 6.3739 - val_accuracy: 0.0952\n",
            "Epoch 91/100\n",
            "4/4 [==============================] - 2s 532ms/step - loss: 0.8582 - accuracy: 0.8941 - val_loss: 6.8254 - val_accuracy: 0.1190\n",
            "Epoch 92/100\n",
            "4/4 [==============================] - 2s 530ms/step - loss: 0.9172 - accuracy: 0.8644 - val_loss: 7.2242 - val_accuracy: 0.0476\n",
            "Epoch 93/100\n",
            "4/4 [==============================] - 2s 535ms/step - loss: 0.8630 - accuracy: 0.8983 - val_loss: 6.6826 - val_accuracy: 0.0714\n",
            "Epoch 94/100\n",
            "4/4 [==============================] - 2s 535ms/step - loss: 0.8263 - accuracy: 0.8941 - val_loss: 7.0850 - val_accuracy: 0.0238\n",
            "Epoch 95/100\n",
            "4/4 [==============================] - 2s 531ms/step - loss: 1.2417 - accuracy: 0.7924 - val_loss: 7.0794 - val_accuracy: 0.1190\n",
            "Epoch 96/100\n",
            "4/4 [==============================] - 2s 532ms/step - loss: 1.1539 - accuracy: 0.8136 - val_loss: 6.8035 - val_accuracy: 0.1190\n",
            "Epoch 97/100\n",
            "4/4 [==============================] - 2s 524ms/step - loss: 1.0441 - accuracy: 0.8390 - val_loss: 6.0906 - val_accuracy: 0.1190\n",
            "Epoch 98/100\n",
            "4/4 [==============================] - 2s 529ms/step - loss: 1.1428 - accuracy: 0.8390 - val_loss: 6.5136 - val_accuracy: 0.0952\n",
            "Epoch 99/100\n",
            "4/4 [==============================] - 2s 528ms/step - loss: 1.1366 - accuracy: 0.8178 - val_loss: 6.2677 - val_accuracy: 0.1905\n",
            "Epoch 100/100\n",
            "4/4 [==============================] - 2s 523ms/step - loss: 1.0305 - accuracy: 0.8390 - val_loss: 6.2231 - val_accuracy: 0.0714\n"
          ],
          "name": "stdout"
        }
      ]
    },
    {
      "cell_type": "code",
      "metadata": {
        "id": "qKrycsGkWMoN"
      },
      "source": [
        "from tensorflow.keras.layers import Bidirectional\n",
        "\n",
        "def create_model_four():\n",
        "  initialiser = 'glorot_uniform'\n",
        "  reg_lambda  = 0.001\n",
        "  model = Sequential()\n",
        "  model.add(TimeDistributed(Conv2D(32, (7, 7), strides=(2, 2), padding='same',\n",
        "                                          kernel_initializer=initialiser, kernel_regularizer=L2(l=reg_lambda)),\n",
        "                                    input_shape=(32,80,80,3)))\n",
        "  model.add(TimeDistributed(BatchNormalization()))\n",
        "  model.add(TimeDistributed(Activation('relu')))\n",
        "  model.add(TimeDistributed(Conv2D(32, (3,3), kernel_initializer=initialiser, kernel_regularizer=L2(l=reg_lambda))))\n",
        "  model.add(TimeDistributed(BatchNormalization()))\n",
        "  model.add(TimeDistributed(Activation('relu')))\n",
        "  model.add(TimeDistributed(MaxPooling2D((2, 2), strides=(2, 2))))\n",
        "  model = add_default_block(model, 64,  initals=initialiser, reg_lambda=reg_lambda)\n",
        "  model = add_default_block(model, 128, initals=initialiser, reg_lambda=reg_lambda)\n",
        "  model = add_default_block(model, 256, initals=initialiser, reg_lambda=reg_lambda)\n",
        "  model = add_default_block(model, 512, initals=initialiser, reg_lambda=reg_lambda)\n",
        "  model.add(TimeDistributed(Flatten()))\n",
        "  model.add(Bidirectional(LSTM(256, return_sequences=False, dropout=0.5)))\n",
        "  model.add(Dense(13, activation='softmax'))\n",
        "  return model"
      ],
      "execution_count": null,
      "outputs": []
    },
    {
      "cell_type": "code",
      "metadata": {
        "id": "mpRYTwqOXHnO"
      },
      "source": [
        "model_four = create_model_four()"
      ],
      "execution_count": null,
      "outputs": []
    },
    {
      "cell_type": "code",
      "metadata": {
        "id": "gy23dXKDXLtk"
      },
      "source": [
        "model_four.compile(optimizer='adam' , loss = 'categorical_crossentropy' , metrics=['accuracy'])"
      ],
      "execution_count": null,
      "outputs": []
    },
    {
      "cell_type": "code",
      "metadata": {
        "id": "AZ4Q__xuXaot",
        "colab": {
          "base_uri": "https://localhost:8080/",
          "height": 52
        },
        "outputId": "b6ca2048-0727-47d5-9d89-ab2fff1aa673"
      },
      "source": [
        "model_four.fit(X_train , y_train , epochs = 1)"
      ],
      "execution_count": null,
      "outputs": [
        {
          "output_type": "stream",
          "text": [
            "8/8 [==============================] - 2s 254ms/step - loss: 4.5333 - accuracy: 0.0890\n"
          ],
          "name": "stdout"
        },
        {
          "output_type": "execute_result",
          "data": {
            "text/plain": [
              "<tensorflow.python.keras.callbacks.History at 0x7fede408c860>"
            ]
          },
          "metadata": {
            "tags": []
          },
          "execution_count": 36
        }
      ]
    },
    {
      "cell_type": "code",
      "metadata": {
        "id": "7b0RTNDlXfOA",
        "colab": {
          "base_uri": "https://localhost:8080/",
          "height": 1000
        },
        "outputId": "75f129e4-0060-4175-8c77-dd7e6a1669aa"
      },
      "source": [
        "data_four = model_four.fit(X_train , y_train ,batch_size=64 , epochs = 100 , validation_data=(X_test , y_test))"
      ],
      "execution_count": null,
      "outputs": [
        {
          "output_type": "stream",
          "text": [
            "Epoch 1/100\n",
            "4/4 [==============================] - 3s 761ms/step - loss: 4.1576 - accuracy: 0.1525 - val_loss: 4.2268 - val_accuracy: 0.1190\n",
            "Epoch 2/100\n",
            "4/4 [==============================] - 2s 520ms/step - loss: 4.0780 - accuracy: 0.1780 - val_loss: 4.2600 - val_accuracy: 0.0714\n",
            "Epoch 3/100\n",
            "4/4 [==============================] - 2s 524ms/step - loss: 4.0018 - accuracy: 0.2119 - val_loss: 4.2549 - val_accuracy: 0.1190\n",
            "Epoch 4/100\n",
            "4/4 [==============================] - 2s 530ms/step - loss: 3.9061 - accuracy: 0.2288 - val_loss: 4.2592 - val_accuracy: 0.1190\n",
            "Epoch 5/100\n",
            "4/4 [==============================] - 2s 537ms/step - loss: 3.8669 - accuracy: 0.2161 - val_loss: 4.3410 - val_accuracy: 0.1190\n",
            "Epoch 6/100\n",
            "4/4 [==============================] - 2s 538ms/step - loss: 3.7576 - accuracy: 0.2415 - val_loss: 4.4765 - val_accuracy: 0.1190\n",
            "Epoch 7/100\n",
            "4/4 [==============================] - 2s 527ms/step - loss: 3.6709 - accuracy: 0.2754 - val_loss: 4.6157 - val_accuracy: 0.1190\n",
            "Epoch 8/100\n",
            "4/4 [==============================] - 2s 529ms/step - loss: 3.5110 - accuracy: 0.3475 - val_loss: 4.7196 - val_accuracy: 0.1190\n",
            "Epoch 9/100\n",
            "4/4 [==============================] - 2s 540ms/step - loss: 3.4027 - accuracy: 0.3686 - val_loss: 4.8374 - val_accuracy: 0.1190\n",
            "Epoch 10/100\n",
            "4/4 [==============================] - 2s 541ms/step - loss: 3.4402 - accuracy: 0.3263 - val_loss: 4.8675 - val_accuracy: 0.1190\n",
            "Epoch 11/100\n",
            "4/4 [==============================] - 2s 531ms/step - loss: 3.2717 - accuracy: 0.3771 - val_loss: 5.0557 - val_accuracy: 0.1190\n",
            "Epoch 12/100\n",
            "4/4 [==============================] - 2s 532ms/step - loss: 3.1816 - accuracy: 0.4280 - val_loss: 4.9753 - val_accuracy: 0.1190\n",
            "Epoch 13/100\n",
            "4/4 [==============================] - 2s 528ms/step - loss: 3.0557 - accuracy: 0.4619 - val_loss: 5.3229 - val_accuracy: 0.1190\n",
            "Epoch 14/100\n",
            "4/4 [==============================] - 2s 524ms/step - loss: 2.9203 - accuracy: 0.4703 - val_loss: 5.3914 - val_accuracy: 0.1190\n",
            "Epoch 15/100\n",
            "4/4 [==============================] - 2s 522ms/step - loss: 2.6859 - accuracy: 0.6017 - val_loss: 5.4558 - val_accuracy: 0.1190\n",
            "Epoch 16/100\n",
            "4/4 [==============================] - 2s 534ms/step - loss: 2.7439 - accuracy: 0.5339 - val_loss: 5.6079 - val_accuracy: 0.1190\n",
            "Epoch 17/100\n",
            "4/4 [==============================] - 2s 533ms/step - loss: 2.6040 - accuracy: 0.5678 - val_loss: 5.9951 - val_accuracy: 0.1190\n",
            "Epoch 18/100\n",
            "4/4 [==============================] - 2s 531ms/step - loss: 2.4887 - accuracy: 0.6186 - val_loss: 5.9783 - val_accuracy: 0.1190\n",
            "Epoch 19/100\n",
            "4/4 [==============================] - 2s 532ms/step - loss: 2.4303 - accuracy: 0.6483 - val_loss: 6.1302 - val_accuracy: 0.1190\n",
            "Epoch 20/100\n",
            "4/4 [==============================] - 2s 520ms/step - loss: 2.3758 - accuracy: 0.6102 - val_loss: 6.8486 - val_accuracy: 0.1190\n",
            "Epoch 21/100\n",
            "4/4 [==============================] - 2s 529ms/step - loss: 2.2564 - accuracy: 0.7034 - val_loss: 6.3085 - val_accuracy: 0.1190\n",
            "Epoch 22/100\n",
            "4/4 [==============================] - 2s 528ms/step - loss: 2.1123 - accuracy: 0.7585 - val_loss: 6.6405 - val_accuracy: 0.1190\n",
            "Epoch 23/100\n",
            "4/4 [==============================] - 2s 526ms/step - loss: 1.9488 - accuracy: 0.7754 - val_loss: 6.4836 - val_accuracy: 0.1190\n",
            "Epoch 24/100\n",
            "4/4 [==============================] - 2s 522ms/step - loss: 1.8442 - accuracy: 0.8432 - val_loss: 6.6311 - val_accuracy: 0.0952\n",
            "Epoch 25/100\n",
            "4/4 [==============================] - 2s 531ms/step - loss: 1.6732 - accuracy: 0.8729 - val_loss: 6.9736 - val_accuracy: 0.1190\n",
            "Epoch 26/100\n",
            "4/4 [==============================] - 2s 534ms/step - loss: 1.5457 - accuracy: 0.9195 - val_loss: 7.1505 - val_accuracy: 0.0952\n",
            "Epoch 27/100\n",
            "4/4 [==============================] - 2s 519ms/step - loss: 1.4782 - accuracy: 0.9364 - val_loss: 7.5580 - val_accuracy: 0.0952\n",
            "Epoch 28/100\n",
            "4/4 [==============================] - 2s 521ms/step - loss: 1.4012 - accuracy: 0.9492 - val_loss: 7.3550 - val_accuracy: 0.0952\n",
            "Epoch 29/100\n",
            "4/4 [==============================] - 2s 522ms/step - loss: 1.3644 - accuracy: 0.9492 - val_loss: 7.6670 - val_accuracy: 0.1190\n",
            "Epoch 30/100\n",
            "4/4 [==============================] - 2s 519ms/step - loss: 1.2997 - accuracy: 0.9746 - val_loss: 7.6767 - val_accuracy: 0.0952\n",
            "Epoch 31/100\n",
            "4/4 [==============================] - 2s 518ms/step - loss: 1.2593 - accuracy: 0.9661 - val_loss: 7.4787 - val_accuracy: 0.0952\n",
            "Epoch 32/100\n",
            "4/4 [==============================] - 2s 525ms/step - loss: 1.2635 - accuracy: 0.9492 - val_loss: 7.9773 - val_accuracy: 0.0952\n",
            "Epoch 33/100\n",
            "4/4 [==============================] - 2s 522ms/step - loss: 1.2429 - accuracy: 0.9534 - val_loss: 7.4362 - val_accuracy: 0.0952\n",
            "Epoch 34/100\n",
            "4/4 [==============================] - 2s 527ms/step - loss: 1.2076 - accuracy: 0.9661 - val_loss: 7.6799 - val_accuracy: 0.0952\n",
            "Epoch 35/100\n",
            "4/4 [==============================] - 2s 523ms/step - loss: 1.2674 - accuracy: 0.9322 - val_loss: 8.6678 - val_accuracy: 0.0952\n",
            "Epoch 36/100\n",
            "4/4 [==============================] - 2s 525ms/step - loss: 1.2235 - accuracy: 0.9364 - val_loss: 8.3054 - val_accuracy: 0.0952\n",
            "Epoch 37/100\n",
            "4/4 [==============================] - 2s 530ms/step - loss: 1.2007 - accuracy: 0.9322 - val_loss: 7.7745 - val_accuracy: 0.1190\n",
            "Epoch 38/100\n",
            "4/4 [==============================] - 2s 526ms/step - loss: 1.1686 - accuracy: 0.9407 - val_loss: 8.0634 - val_accuracy: 0.1190\n",
            "Epoch 39/100\n",
            "4/4 [==============================] - 2s 536ms/step - loss: 1.2193 - accuracy: 0.9280 - val_loss: 7.3394 - val_accuracy: 0.0952\n",
            "Epoch 40/100\n",
            "4/4 [==============================] - 2s 529ms/step - loss: 1.2179 - accuracy: 0.9364 - val_loss: 7.5942 - val_accuracy: 0.0952\n",
            "Epoch 41/100\n",
            "4/4 [==============================] - 2s 528ms/step - loss: 1.3939 - accuracy: 0.8771 - val_loss: 6.8664 - val_accuracy: 0.0476\n",
            "Epoch 42/100\n",
            "4/4 [==============================] - 2s 532ms/step - loss: 1.2962 - accuracy: 0.8898 - val_loss: 6.4503 - val_accuracy: 0.0714\n",
            "Epoch 43/100\n",
            "4/4 [==============================] - 2s 530ms/step - loss: 1.2206 - accuracy: 0.9195 - val_loss: 6.9888 - val_accuracy: 0.0952\n",
            "Epoch 44/100\n",
            "4/4 [==============================] - 2s 531ms/step - loss: 1.1471 - accuracy: 0.9576 - val_loss: 7.2771 - val_accuracy: 0.1667\n",
            "Epoch 45/100\n",
            "4/4 [==============================] - 2s 530ms/step - loss: 1.1188 - accuracy: 0.9407 - val_loss: 7.2532 - val_accuracy: 0.1667\n",
            "Epoch 46/100\n",
            "4/4 [==============================] - 2s 534ms/step - loss: 1.1202 - accuracy: 0.9576 - val_loss: 7.5530 - val_accuracy: 0.0714\n",
            "Epoch 47/100\n",
            "4/4 [==============================] - 2s 530ms/step - loss: 1.0615 - accuracy: 0.9746 - val_loss: 8.2057 - val_accuracy: 0.1190\n",
            "Epoch 48/100\n",
            "4/4 [==============================] - 2s 537ms/step - loss: 1.2402 - accuracy: 0.8983 - val_loss: 8.6500 - val_accuracy: 0.0952\n",
            "Epoch 49/100\n",
            "4/4 [==============================] - 2s 528ms/step - loss: 1.1121 - accuracy: 0.9364 - val_loss: 8.0517 - val_accuracy: 0.0476\n",
            "Epoch 50/100\n",
            "4/4 [==============================] - 2s 539ms/step - loss: 1.0906 - accuracy: 0.9576 - val_loss: 6.9828 - val_accuracy: 0.0952\n",
            "Epoch 51/100\n",
            "4/4 [==============================] - 2s 532ms/step - loss: 1.0961 - accuracy: 0.9407 - val_loss: 7.0757 - val_accuracy: 0.1429\n",
            "Epoch 52/100\n",
            "4/4 [==============================] - 2s 525ms/step - loss: 1.0240 - accuracy: 0.9619 - val_loss: 8.0960 - val_accuracy: 0.1190\n",
            "Epoch 53/100\n",
            "4/4 [==============================] - 2s 523ms/step - loss: 1.0239 - accuracy: 0.9534 - val_loss: 7.9682 - val_accuracy: 0.1190\n",
            "Epoch 54/100\n",
            "4/4 [==============================] - 2s 529ms/step - loss: 0.9901 - accuracy: 0.9661 - val_loss: 7.5139 - val_accuracy: 0.1429\n",
            "Epoch 55/100\n",
            "4/4 [==============================] - 2s 541ms/step - loss: 0.9773 - accuracy: 0.9661 - val_loss: 8.1093 - val_accuracy: 0.1190\n",
            "Epoch 56/100\n",
            "4/4 [==============================] - 2s 535ms/step - loss: 0.9498 - accuracy: 0.9703 - val_loss: 9.1396 - val_accuracy: 0.0952\n",
            "Epoch 57/100\n",
            "4/4 [==============================] - 2s 532ms/step - loss: 0.9191 - accuracy: 0.9746 - val_loss: 9.5231 - val_accuracy: 0.0952\n",
            "Epoch 58/100\n",
            "4/4 [==============================] - 2s 530ms/step - loss: 0.9102 - accuracy: 0.9788 - val_loss: 9.1636 - val_accuracy: 0.0952\n",
            "Epoch 59/100\n",
            "4/4 [==============================] - 2s 531ms/step - loss: 0.8936 - accuracy: 0.9788 - val_loss: 8.9082 - val_accuracy: 0.1190\n",
            "Epoch 60/100\n",
            "4/4 [==============================] - 2s 526ms/step - loss: 0.8811 - accuracy: 0.9788 - val_loss: 8.8256 - val_accuracy: 0.1190\n",
            "Epoch 61/100\n",
            "4/4 [==============================] - 2s 532ms/step - loss: 0.8562 - accuracy: 0.9873 - val_loss: 8.7589 - val_accuracy: 0.1190\n",
            "Epoch 62/100\n",
            "4/4 [==============================] - 2s 527ms/step - loss: 0.8648 - accuracy: 0.9619 - val_loss: 8.6144 - val_accuracy: 0.1667\n",
            "Epoch 63/100\n",
            "4/4 [==============================] - 2s 520ms/step - loss: 0.8378 - accuracy: 0.9746 - val_loss: 8.9984 - val_accuracy: 0.0952\n",
            "Epoch 64/100\n",
            "4/4 [==============================] - 2s 527ms/step - loss: 0.8420 - accuracy: 0.9703 - val_loss: 9.0822 - val_accuracy: 0.1190\n",
            "Epoch 65/100\n",
            "4/4 [==============================] - 2s 519ms/step - loss: 0.8532 - accuracy: 0.9619 - val_loss: 9.6239 - val_accuracy: 0.0952\n",
            "Epoch 66/100\n",
            "4/4 [==============================] - 2s 529ms/step - loss: 0.8220 - accuracy: 0.9703 - val_loss: 9.1840 - val_accuracy: 0.0952\n",
            "Epoch 67/100\n",
            "4/4 [==============================] - 2s 518ms/step - loss: 0.8120 - accuracy: 0.9661 - val_loss: 8.5521 - val_accuracy: 0.0476\n",
            "Epoch 68/100\n",
            "4/4 [==============================] - 2s 529ms/step - loss: 0.8325 - accuracy: 0.9534 - val_loss: 8.2439 - val_accuracy: 0.0714\n",
            "Epoch 69/100\n",
            "4/4 [==============================] - 2s 535ms/step - loss: 0.8499 - accuracy: 0.9619 - val_loss: 8.4707 - val_accuracy: 0.1190\n",
            "Epoch 70/100\n",
            "4/4 [==============================] - 2s 530ms/step - loss: 0.8169 - accuracy: 0.9703 - val_loss: 8.5689 - val_accuracy: 0.1190\n",
            "Epoch 71/100\n",
            "4/4 [==============================] - 2s 528ms/step - loss: 0.8292 - accuracy: 0.9703 - val_loss: 8.6165 - val_accuracy: 0.1190\n",
            "Epoch 72/100\n",
            "4/4 [==============================] - 2s 535ms/step - loss: 0.8159 - accuracy: 0.9661 - val_loss: 8.3452 - val_accuracy: 0.1429\n",
            "Epoch 73/100\n",
            "4/4 [==============================] - 2s 528ms/step - loss: 0.8007 - accuracy: 0.9492 - val_loss: 8.8573 - val_accuracy: 0.0952\n",
            "Epoch 74/100\n",
            "4/4 [==============================] - 2s 523ms/step - loss: 0.8265 - accuracy: 0.9619 - val_loss: 9.6328 - val_accuracy: 0.0952\n",
            "Epoch 75/100\n",
            "4/4 [==============================] - 2s 528ms/step - loss: 0.8195 - accuracy: 0.9576 - val_loss: 9.3988 - val_accuracy: 0.0714\n",
            "Epoch 76/100\n",
            "4/4 [==============================] - 2s 529ms/step - loss: 0.7906 - accuracy: 0.9619 - val_loss: 8.7963 - val_accuracy: 0.0238\n",
            "Epoch 77/100\n",
            "4/4 [==============================] - 2s 523ms/step - loss: 0.8275 - accuracy: 0.9534 - val_loss: 8.7074 - val_accuracy: 0.0714\n",
            "Epoch 78/100\n",
            "4/4 [==============================] - 2s 519ms/step - loss: 0.9971 - accuracy: 0.8898 - val_loss: 8.4771 - val_accuracy: 0.1190\n",
            "Epoch 79/100\n",
            "4/4 [==============================] - 2s 528ms/step - loss: 0.9545 - accuracy: 0.9195 - val_loss: 8.0861 - val_accuracy: 0.1190\n",
            "Epoch 80/100\n",
            "4/4 [==============================] - 2s 530ms/step - loss: 1.0493 - accuracy: 0.8941 - val_loss: 5.3623 - val_accuracy: 0.1429\n",
            "Epoch 81/100\n",
            "4/4 [==============================] - 2s 527ms/step - loss: 1.0220 - accuracy: 0.8983 - val_loss: 6.5587 - val_accuracy: 0.1190\n",
            "Epoch 82/100\n",
            "4/4 [==============================] - 2s 521ms/step - loss: 0.9937 - accuracy: 0.9110 - val_loss: 7.1831 - val_accuracy: 0.1190\n",
            "Epoch 83/100\n",
            "4/4 [==============================] - 2s 528ms/step - loss: 0.9778 - accuracy: 0.9110 - val_loss: 7.0723 - val_accuracy: 0.0952\n",
            "Epoch 84/100\n",
            "4/4 [==============================] - 2s 530ms/step - loss: 0.9480 - accuracy: 0.9195 - val_loss: 6.6981 - val_accuracy: 0.1190\n",
            "Epoch 85/100\n",
            "4/4 [==============================] - 2s 529ms/step - loss: 0.9035 - accuracy: 0.9449 - val_loss: 7.3012 - val_accuracy: 0.0714\n",
            "Epoch 86/100\n",
            "4/4 [==============================] - 2s 527ms/step - loss: 0.8387 - accuracy: 0.9661 - val_loss: 7.5556 - val_accuracy: 0.0476\n",
            "Epoch 87/100\n",
            "4/4 [==============================] - 2s 520ms/step - loss: 0.8402 - accuracy: 0.9576 - val_loss: 7.0996 - val_accuracy: 0.0238\n",
            "Epoch 88/100\n",
            "4/4 [==============================] - 2s 541ms/step - loss: 0.8119 - accuracy: 0.9703 - val_loss: 6.4666 - val_accuracy: 0.0952\n",
            "Epoch 89/100\n",
            "4/4 [==============================] - 2s 530ms/step - loss: 0.8199 - accuracy: 0.9492 - val_loss: 6.6809 - val_accuracy: 0.0952\n",
            "Epoch 90/100\n",
            "4/4 [==============================] - 2s 531ms/step - loss: 0.7825 - accuracy: 0.9703 - val_loss: 7.3162 - val_accuracy: 0.0714\n",
            "Epoch 91/100\n",
            "4/4 [==============================] - 2s 525ms/step - loss: 0.8108 - accuracy: 0.9449 - val_loss: 6.9807 - val_accuracy: 0.1190\n",
            "Epoch 92/100\n",
            "4/4 [==============================] - 2s 528ms/step - loss: 0.7633 - accuracy: 0.9746 - val_loss: 6.4936 - val_accuracy: 0.1190\n",
            "Epoch 93/100\n",
            "4/4 [==============================] - 2s 538ms/step - loss: 0.7878 - accuracy: 0.9619 - val_loss: 6.8668 - val_accuracy: 0.1190\n",
            "Epoch 94/100\n",
            "4/4 [==============================] - 2s 531ms/step - loss: 0.7665 - accuracy: 0.9746 - val_loss: 7.4430 - val_accuracy: 0.0714\n",
            "Epoch 95/100\n",
            "4/4 [==============================] - 2s 530ms/step - loss: 0.7520 - accuracy: 0.9746 - val_loss: 7.0234 - val_accuracy: 0.0476\n",
            "Epoch 96/100\n",
            "4/4 [==============================] - 2s 533ms/step - loss: 0.7330 - accuracy: 0.9788 - val_loss: 6.8107 - val_accuracy: 0.0714\n",
            "Epoch 97/100\n",
            "4/4 [==============================] - 2s 529ms/step - loss: 0.7436 - accuracy: 0.9703 - val_loss: 7.0028 - val_accuracy: 0.1429\n",
            "Epoch 98/100\n",
            "4/4 [==============================] - 2s 535ms/step - loss: 0.7216 - accuracy: 0.9746 - val_loss: 7.3511 - val_accuracy: 0.0952\n",
            "Epoch 99/100\n",
            "4/4 [==============================] - 2s 523ms/step - loss: 0.7054 - accuracy: 0.9831 - val_loss: 7.5973 - val_accuracy: 0.1190\n",
            "Epoch 100/100\n",
            "4/4 [==============================] - 2s 521ms/step - loss: 0.7283 - accuracy: 0.9619 - val_loss: 7.3167 - val_accuracy: 0.1905\n"
          ],
          "name": "stdout"
        }
      ]
    },
    {
      "cell_type": "code",
      "metadata": {
        "id": "pHUQhlnQXsem",
        "colab": {
          "base_uri": "https://localhost:8080/",
          "height": 52
        },
        "outputId": "00c011ea-5b35-4f87-ac26-afd379c6c9f6"
      },
      "source": [
        "answers = model_four.evaluate(X_train , y_train)\n",
        "print(answers)"
      ],
      "execution_count": null,
      "outputs": [
        {
          "output_type": "stream",
          "text": [
            "8/8 [==============================] - 1s 93ms/step - loss: 2.0698 - accuracy: 0.6695\n",
            "[2.0698370933532715, 0.6694915294647217]\n"
          ],
          "name": "stdout"
        }
      ]
    },
    {
      "cell_type": "code",
      "metadata": {
        "id": "snP5mmQeYq6o",
        "colab": {
          "base_uri": "https://localhost:8080/",
          "height": 1000
        },
        "outputId": "dcd0f71a-40bc-4ac1-acd1-633784be2f55"
      },
      "source": [
        "model_four.summary()"
      ],
      "execution_count": null,
      "outputs": [
        {
          "output_type": "stream",
          "text": [
            "Model: \"sequential_3\"\n",
            "_________________________________________________________________\n",
            "Layer (type)                 Output Shape              Param #   \n",
            "=================================================================\n",
            "time_distributed_108 (TimeDi (None, 32, 40, 40, 32)    4736      \n",
            "_________________________________________________________________\n",
            "time_distributed_109 (TimeDi (None, 32, 40, 40, 32)    128       \n",
            "_________________________________________________________________\n",
            "time_distributed_110 (TimeDi (None, 32, 40, 40, 32)    0         \n",
            "_________________________________________________________________\n",
            "time_distributed_111 (TimeDi (None, 32, 38, 38, 32)    9248      \n",
            "_________________________________________________________________\n",
            "time_distributed_112 (TimeDi (None, 32, 38, 38, 32)    128       \n",
            "_________________________________________________________________\n",
            "time_distributed_113 (TimeDi (None, 32, 38, 38, 32)    0         \n",
            "_________________________________________________________________\n",
            "time_distributed_114 (TimeDi (None, 32, 19, 19, 32)    0         \n",
            "_________________________________________________________________\n",
            "time_distributed_115 (TimeDi (None, 32, 19, 19, 64)    18496     \n",
            "_________________________________________________________________\n",
            "time_distributed_116 (TimeDi (None, 32, 19, 19, 64)    256       \n",
            "_________________________________________________________________\n",
            "time_distributed_117 (TimeDi (None, 32, 19, 19, 64)    0         \n",
            "_________________________________________________________________\n",
            "time_distributed_118 (TimeDi (None, 32, 19, 19, 64)    36928     \n",
            "_________________________________________________________________\n",
            "time_distributed_119 (TimeDi (None, 32, 19, 19, 64)    256       \n",
            "_________________________________________________________________\n",
            "time_distributed_120 (TimeDi (None, 32, 19, 19, 64)    0         \n",
            "_________________________________________________________________\n",
            "time_distributed_121 (TimeDi (None, 32, 9, 9, 64)      0         \n",
            "_________________________________________________________________\n",
            "time_distributed_122 (TimeDi (None, 32, 9, 9, 128)     73856     \n",
            "_________________________________________________________________\n",
            "time_distributed_123 (TimeDi (None, 32, 9, 9, 128)     512       \n",
            "_________________________________________________________________\n",
            "time_distributed_124 (TimeDi (None, 32, 9, 9, 128)     0         \n",
            "_________________________________________________________________\n",
            "time_distributed_125 (TimeDi (None, 32, 9, 9, 128)     147584    \n",
            "_________________________________________________________________\n",
            "time_distributed_126 (TimeDi (None, 32, 9, 9, 128)     512       \n",
            "_________________________________________________________________\n",
            "time_distributed_127 (TimeDi (None, 32, 9, 9, 128)     0         \n",
            "_________________________________________________________________\n",
            "time_distributed_128 (TimeDi (None, 32, 4, 4, 128)     0         \n",
            "_________________________________________________________________\n",
            "time_distributed_129 (TimeDi (None, 32, 4, 4, 256)     295168    \n",
            "_________________________________________________________________\n",
            "time_distributed_130 (TimeDi (None, 32, 4, 4, 256)     1024      \n",
            "_________________________________________________________________\n",
            "time_distributed_131 (TimeDi (None, 32, 4, 4, 256)     0         \n",
            "_________________________________________________________________\n",
            "time_distributed_132 (TimeDi (None, 32, 4, 4, 256)     590080    \n",
            "_________________________________________________________________\n",
            "time_distributed_133 (TimeDi (None, 32, 4, 4, 256)     1024      \n",
            "_________________________________________________________________\n",
            "time_distributed_134 (TimeDi (None, 32, 4, 4, 256)     0         \n",
            "_________________________________________________________________\n",
            "time_distributed_135 (TimeDi (None, 32, 2, 2, 256)     0         \n",
            "_________________________________________________________________\n",
            "time_distributed_136 (TimeDi (None, 32, 2, 2, 512)     1180160   \n",
            "_________________________________________________________________\n",
            "time_distributed_137 (TimeDi (None, 32, 2, 2, 512)     2048      \n",
            "_________________________________________________________________\n",
            "time_distributed_138 (TimeDi (None, 32, 2, 2, 512)     0         \n",
            "_________________________________________________________________\n",
            "time_distributed_139 (TimeDi (None, 32, 2, 2, 512)     2359808   \n",
            "_________________________________________________________________\n",
            "time_distributed_140 (TimeDi (None, 32, 2, 2, 512)     2048      \n",
            "_________________________________________________________________\n",
            "time_distributed_141 (TimeDi (None, 32, 2, 2, 512)     0         \n",
            "_________________________________________________________________\n",
            "time_distributed_142 (TimeDi (None, 32, 1, 1, 512)     0         \n",
            "_________________________________________________________________\n",
            "time_distributed_143 (TimeDi (None, 32, 512)           0         \n",
            "_________________________________________________________________\n",
            "bidirectional (Bidirectional (None, 512)               1574912   \n",
            "_________________________________________________________________\n",
            "dense_4 (Dense)              (None, 13)                6669      \n",
            "=================================================================\n",
            "Total params: 6,305,581\n",
            "Trainable params: 6,301,613\n",
            "Non-trainable params: 3,968\n",
            "_________________________________________________________________\n"
          ],
          "name": "stdout"
        }
      ]
    },
    {
      "cell_type": "code",
      "metadata": {
        "id": "jWeXuV3IY35f",
        "colab": {
          "base_uri": "https://localhost:8080/",
          "height": 298
        },
        "outputId": "de4c02ad-a18a-4c76-fdde-e6d2c464894d"
      },
      "source": [
        "import matplotlib.pyplot as plt\n",
        "\n",
        "plt.subplot(2,1,1)\n",
        "plt.plot(data.history['accuracy'],label = 'accuracy')\n",
        "plt.plot(data.history['val_accuracy'],label = 'val_accurcay')\n",
        "plt.legend()\n",
        "plt.tight_layout()\n",
        "\n",
        "plt.subplot(2,1,2)\n",
        "plt.plot(data_four.history['accuracy'],label = 'accuracy')\n",
        "plt.plot(data_four.history['val_accuracy'],label = 'val_accurcay')\n",
        "plt.legend()\n",
        "plt.tight_layout()"
      ],
      "execution_count": null,
      "outputs": [
        {
          "output_type": "display_data",
          "data": {
            "image/png": "[encoded data removed]",
            "text/plain": [
              "<Figure size 432x288 with 2 Axes>"
            ]
          },
          "metadata": {
            "tags": [],
            "needs_background": "light"
          }
        }
      ]
    },
    {
      "cell_type": "code",
      "metadata": {
        "id": "82nBbwAuSCvB"
      },
      "source": [
        ""
      ],
      "execution_count": null,
      "outputs": []
    }
  ]
}