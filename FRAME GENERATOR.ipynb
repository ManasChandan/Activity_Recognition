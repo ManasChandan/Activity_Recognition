{
 "cells": [
  {
   "cell_type": "code",
   "execution_count": 1,
   "metadata": {},
   "outputs": [],
   "source": [
    "import cv2\n",
    "import os"
   ]
  },
  {
   "cell_type": "code",
   "execution_count": 2,
   "metadata": {},
   "outputs": [],
   "source": [
    "def frameCreators_check(pathInside):\n",
    "    for activity in os.listdir(pathInside):\n",
    "        activities = pathInside + \"/\" + activity\n",
    "        print(activities)\n",
    "        for videos in os.listdir(activities):\n",
    "            subVideos = activities + \"/\" + videos\n",
    "            os.mkdir(subVideos + \"/Frames\")\n",
    "            count=0\n",
    "            for smallVideos in os.listdir(subVideos):\n",
    "                vidcap = cv2.VideoCapture(subVideos+\"/\"+smallVideos)\n",
    "                midNoFrames = ((vidcap.get(cv2.CAP_PROP_FRAME_COUNT)) / 2)\n",
    "                no_of_frame = 0\n",
    "                while (vidcap.isOpened()):\n",
    "                    success,image = vidcap.read()\n",
    "                    if success :\n",
    "                        no_of_frame += 1\n",
    "                        if(no_of_frame == midNoFrames):\n",
    "                            frame = cv2.resize(image, (224,224))\n",
    "                            cv2.imwrite(subVideos + \"/Frames/\" + \"frame%d.jpg\" % count, frame)\n",
    "                            count += 1\n",
    "                    else:\n",
    "                        vidcap.release()\n",
    "                        os.remove(subVideos+\"/\"+smallVideos)\n",
    "                        break"
   ]
  },
  {
   "cell_type": "code",
   "execution_count": 3,
   "metadata": {},
   "outputs": [
    {
     "name": "stdout",
     "output_type": "stream",
     "text": [
      "C:\\Machine Learning Projects\\ALL_PROJECTS\\Activity Recognition\\DCSASS Dataset\\TRAIN - Copy/Abuse\n",
      "C:\\Machine Learning Projects\\ALL_PROJECTS\\Activity Recognition\\DCSASS Dataset\\TRAIN - Copy/Arrest\n",
      "C:\\Machine Learning Projects\\ALL_PROJECTS\\Activity Recognition\\DCSASS Dataset\\TRAIN - Copy/Arson\n",
      "C:\\Machine Learning Projects\\ALL_PROJECTS\\Activity Recognition\\DCSASS Dataset\\TRAIN - Copy/Assault\n",
      "C:\\Machine Learning Projects\\ALL_PROJECTS\\Activity Recognition\\DCSASS Dataset\\TRAIN - Copy/Burglary\n",
      "C:\\Machine Learning Projects\\ALL_PROJECTS\\Activity Recognition\\DCSASS Dataset\\TRAIN - Copy/Explosion\n",
      "C:\\Machine Learning Projects\\ALL_PROJECTS\\Activity Recognition\\DCSASS Dataset\\TRAIN - Copy/Fighting\n",
      "C:\\Machine Learning Projects\\ALL_PROJECTS\\Activity Recognition\\DCSASS Dataset\\TRAIN - Copy/RoadAccidents\n",
      "C:\\Machine Learning Projects\\ALL_PROJECTS\\Activity Recognition\\DCSASS Dataset\\TRAIN - Copy/Robbery\n",
      "C:\\Machine Learning Projects\\ALL_PROJECTS\\Activity Recognition\\DCSASS Dataset\\TRAIN - Copy/Shooting\n",
      "C:\\Machine Learning Projects\\ALL_PROJECTS\\Activity Recognition\\DCSASS Dataset\\TRAIN - Copy/Shoplifting\n",
      "C:\\Machine Learning Projects\\ALL_PROJECTS\\Activity Recognition\\DCSASS Dataset\\TRAIN - Copy/Stealing\n",
      "C:\\Machine Learning Projects\\ALL_PROJECTS\\Activity Recognition\\DCSASS Dataset\\TRAIN - Copy/Vandalism\n"
     ]
    }
   ],
   "source": [
    "frameCreators_check(\"C:\\Machine Learning Projects\\ALL_PROJECTS\\Activity Recognition\\DCSASS Dataset\\TRAIN - Copy\")"
   ]
  },
  {
   "cell_type": "code",
   "execution_count": 4,
   "metadata": {},
   "outputs": [
    {
     "name": "stdout",
     "output_type": "stream",
     "text": [
      "Target 1 Acheived\n"
     ]
    }
   ],
   "source": [
    "print(\"Target 1 Acheived\")"
   ]
  },
  {
   "cell_type": "code",
   "execution_count": null,
   "metadata": {},
   "outputs": [],
   "source": []
  }
 ],
 "metadata": {
  "kernelspec": {
   "display_name": "Python 3",
   "language": "python",
   "name": "python3"
  },
  "language_info": {
   "codemirror_mode": {
    "name": "ipython",
    "version": 3
   },
   "file_extension": ".py",
   "mimetype": "text/x-python",
   "name": "python",
   "nbconvert_exporter": "python",
   "pygments_lexer": "ipython3",
   "version": "3.7.7"
  }
 },
 "nbformat": 4,
 "nbformat_minor": 4
}
