{
 "cells": [
  {
   "cell_type": "code",
   "execution_count": 1,
   "metadata": {},
   "outputs": [],
   "source": [
    "import cv2\n",
    "import os\n",
    "import numpy as np"
   ]
  },
  {
   "cell_type": "code",
   "execution_count": 2,
   "metadata": {},
   "outputs": [],
   "source": [
    "labels_dict = {'Abuse':0,'Arrest':1,'Arson':2,'Assault':3,'Burglary':4,'Explosion':5,'Fighting':6,\n",
    "               'RoadAccidents':7,'Robbery':8,'Shooting':9,'Shoplifting':10,'Stealing':11,'Vandalism':12}"
   ]
  },
  {
   "cell_type": "code",
   "execution_count": 3,
   "metadata": {},
   "outputs": [],
   "source": [
    "from tensorflow.keras.utils import to_categorical"
   ]
  },
  {
   "cell_type": "code",
   "execution_count": 13,
   "metadata": {},
   "outputs": [],
   "source": [
    "def getData(path):\n",
    "    labels = []\n",
    "    final_Matrice = []\n",
    "    for activities in os.listdir(path):\n",
    "        videos = path + \"/\" + activities\n",
    "        # activities has the name\n",
    "        print(activities)\n",
    "        for video in os.listdir(videos):\n",
    "            frames = videos + \"/\" + video + \"/Frames\"\n",
    "            image_Videos = []\n",
    "            for frame in os.listdir(frames):\n",
    "                filepath = frames + \"/\" + frame\n",
    "                image = cv2.imread(filepath)\n",
    "                image = cv2.resize(image , (80,80))\n",
    "                image_Videos.append(image)\n",
    "            labels.append(labels_dict[activities])\n",
    "            final_Matrice.append(image_Videos)\n",
    "    final = np.array(final_Matrice)\n",
    "    labels = to_categorical(labels)\n",
    "    return final.shape , labels.shape"
   ]
  },
  {
   "cell_type": "code",
   "execution_count": 14,
   "metadata": {},
   "outputs": [
    {
     "name": "stdout",
     "output_type": "stream",
     "text": [
      "Abuse\n",
      "Arrest\n",
      "Arson\n",
      "Assault\n",
      "Burglary\n",
      "Explosion\n",
      "Fighting\n",
      "RoadAccidents\n",
      "Robbery\n",
      "Shooting\n",
      "Shoplifting\n",
      "Stealing\n",
      "Vandalism\n"
     ]
    },
    {
     "data": {
      "text/plain": [
       "((105, 32, 80, 80, 3), (105, 13))"
      ]
     },
     "execution_count": 14,
     "metadata": {},
     "output_type": "execute_result"
    }
   ],
   "source": [
    "getData(\"C:\\Machine Learning Projects\\ALL_PROJECTS\\Activity Recognition\\DCSASS Dataset\\TEST - Copy\")"
   ]
  },
  {
   "cell_type": "code",
   "execution_count": 27,
   "metadata": {},
   "outputs": [],
   "source": [
    "def getData_New(path):\n",
    "    labels = []\n",
    "    final_Matrice = []\n",
    "    for activities in os.listdir(path):\n",
    "        videos = path + \"/\" + activities\n",
    "        # activities has the name\n",
    "        print(activities)\n",
    "        for video in os.listdir(videos):\n",
    "            frames = videos + \"/\" + video + \"/Frames\"\n",
    "            image_Videos = []\n",
    "            for frame in os.listdir(frames):\n",
    "                filepath = frames + \"/\" + frame\n",
    "                image = cv2.imread(filepath)\n",
    "                image = cv2.resize(image , (80,80))\n",
    "                image_Videos.append(image)\n",
    "            labels.append(labels_dict[activities])\n",
    "            final_Matrice.append(image_Videos)\n",
    "    labels = to_categorical(labels)\n",
    "    final_Matrice = np.array(final_Matrice)\n",
    "    return final_Matrice.shape , labels.shape"
   ]
  },
  {
   "cell_type": "code",
   "execution_count": 29,
   "metadata": {},
   "outputs": [
    {
     "name": "stdout",
     "output_type": "stream",
     "text": [
      "Abuse\n",
      "Arrest\n",
      "Arson\n",
      "Assault\n",
      "Burglary\n",
      "Explosion\n",
      "Fighting\n",
      "RoadAccidents\n",
      "Robbery\n",
      "Shooting\n",
      "Shoplifting\n",
      "Stealing\n",
      "Vandalism\n"
     ]
    },
    {
     "data": {
      "text/plain": [
       "((278, 32, 80, 80, 3), (278, 13))"
      ]
     },
     "execution_count": 29,
     "metadata": {},
     "output_type": "execute_result"
    }
   ],
   "source": [
    "getData_New(\"C:\\Machine Learning Projects\\ALL_PROJECTS\\Activity Recognition\\DCSASS Dataset\\Data\")"
   ]
  },
  {
   "cell_type": "code",
   "execution_count": null,
   "metadata": {},
   "outputs": [],
   "source": []
  }
 ],
 "metadata": {
  "kernelspec": {
   "display_name": "Python 3",
   "language": "python",
   "name": "python3"
  },
  "language_info": {
   "codemirror_mode": {
    "name": "ipython",
    "version": 3
   },
   "file_extension": ".py",
   "mimetype": "text/x-python",
   "name": "python",
   "nbconvert_exporter": "python",
   "pygments_lexer": "ipython3",
   "version": "3.7.8"
  }
 },
 "nbformat": 4,
 "nbformat_minor": 4
}
